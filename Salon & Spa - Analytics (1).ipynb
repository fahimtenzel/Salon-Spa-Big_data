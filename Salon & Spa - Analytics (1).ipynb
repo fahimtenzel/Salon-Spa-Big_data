{
 "cells": [
  {
   "cell_type": "code",
   "execution_count": 0,
   "metadata": {
    "application/vnd.databricks.v1+cell": {
     "cellMetadata": {
      "byteLimit": 2048000,
      "rowLimit": 10000
     },
     "inputWidgets": {},
     "nuid": "ba0db78a-2773-409b-8caa-e8415416cc24",
     "showTitle": false,
     "tableResultSettingsMap": {},
     "title": ""
    }
   },
   "outputs": [
    {
     "output_type": "stream",
     "name": "stdout",
     "output_type": "stream",
     "text": [
      "Loaded DataFrame:\n"
     ]
    },
    {
     "output_type": "display_data",
     "data": {
      "text/html": [
       "<style scoped>\n",
       "  .table-result-container {\n",
       "    max-height: 300px;\n",
       "    overflow: auto;\n",
       "  }\n",
       "  table, th, td {\n",
       "    border: 1px solid black;\n",
       "    border-collapse: collapse;\n",
       "  }\n",
       "  th, td {\n",
       "    padding: 5px;\n",
       "  }\n",
       "  th {\n",
       "    text-align: left;\n",
       "  }\n",
       "</style><div class='table-result-container'><table class='table-result'><thead style='background-color: white'><tr><th>appointment_id</th><th>service_name</th><th>price</th><th>appointment_date</th><th>appointment_time</th><th>customer_id</th><th>staff_member_id</th></tr></thead><tbody><tr><td>1</td><td>Massage</td><td>45.0</td><td>2025-08-05</td><td>2025-09-17T12:30:00.000Z</td><td>CUST_038</td><td>STAFF_01</td></tr><tr><td>2</td><td>Manicure</td><td>20.0</td><td>2025-08-07</td><td>2025-09-17T15:45:00.000Z</td><td>CUST_008</td><td>STAFF_04</td></tr><tr><td>3</td><td>Facial</td><td>40.0</td><td>2025-08-12</td><td>2025-09-17T10:15:00.000Z</td><td>CUST_027</td><td>STAFF_01</td></tr><tr><td>4</td><td>Pedicure</td><td>22.0</td><td>2025-08-13</td><td>2025-09-17T10:00:00.000Z</td><td>CUST_036</td><td>STAFF_02</td></tr><tr><td>5</td><td>Pedicure</td><td>22.0</td><td>2025-08-04</td><td>2025-09-17T09:45:00.000Z</td><td>CUST_048</td><td>STAFF_04</td></tr><tr><td>6</td><td>Hair Coloring</td><td>60.0</td><td>2025-08-26</td><td>2025-09-17T17:45:00.000Z</td><td>CUST_016</td><td>STAFF_04</td></tr><tr><td>7</td><td>Massage</td><td>45.0</td><td>2025-08-16</td><td>2025-09-17T12:45:00.000Z</td><td>CUST_022</td><td>STAFF_01</td></tr><tr><td>8</td><td>Manicure</td><td>20.0</td><td>2025-08-29</td><td>2025-09-17T15:00:00.000Z</td><td>CUST_036</td><td>STAFF_04</td></tr><tr><td>9</td><td>Facial</td><td>40.0</td><td>2025-08-14</td><td>2025-09-17T18:30:00.000Z</td><td>CUST_035</td><td>STAFF_02</td></tr><tr><td>10</td><td>Pedicure</td><td>22.0</td><td>2025-08-26</td><td>2025-09-17T16:30:00.000Z</td><td>CUST_044</td><td>STAFF_01</td></tr><tr><td>11</td><td>Hair Coloring</td><td>60.0</td><td>2025-08-26</td><td>2025-09-17T09:15:00.000Z</td><td>CUST_040</td><td>STAFF_01</td></tr><tr><td>12</td><td>Massage</td><td>45.0</td><td>2025-08-31</td><td>2025-09-17T17:15:00.000Z</td><td>CUST_015</td><td>STAFF_03</td></tr><tr><td>13</td><td>Hair Coloring</td><td>60.0</td><td>2025-08-21</td><td>2025-09-17T12:45:00.000Z</td><td>CUST_049</td><td>STAFF_04</td></tr><tr><td>14</td><td>Hair Coloring</td><td>60.0</td><td>2025-08-19</td><td>2025-09-17T13:15:00.000Z</td><td>CUST_015</td><td>STAFF_02</td></tr><tr><td>15</td><td>Facial</td><td>40.0</td><td>2025-08-30</td><td>2025-09-17T16:30:00.000Z</td><td>CUST_011</td><td>STAFF_02</td></tr><tr><td>16</td><td>Pedicure</td><td>22.0</td><td>2025-08-21</td><td>2025-09-17T13:00:00.000Z</td><td>CUST_027</td><td>STAFF_02</td></tr><tr><td>17</td><td>Manicure</td><td>20.0</td><td>2025-08-10</td><td>2025-09-17T17:00:00.000Z</td><td>CUST_016</td><td>STAFF_03</td></tr><tr><td>18</td><td>Massage</td><td>45.0</td><td>2025-08-19</td><td>2025-09-17T14:00:00.000Z</td><td>CUST_008</td><td>STAFF_03</td></tr><tr><td>19</td><td>Hair Coloring</td><td>60.0</td><td>2025-08-08</td><td>2025-09-17T14:45:00.000Z</td><td>CUST_019</td><td>STAFF_01</td></tr><tr><td>20</td><td>Facial</td><td>40.0</td><td>2025-08-10</td><td>2025-09-17T09:00:00.000Z</td><td>CUST_001</td><td>STAFF_03</td></tr><tr><td>21</td><td>Pedicure</td><td>22.0</td><td>2025-08-04</td><td>2025-09-17T13:15:00.000Z</td><td>CUST_034</td><td>STAFF_03</td></tr><tr><td>22</td><td>Spa Massage</td><td>50.0</td><td>2025-08-27</td><td>2025-09-17T15:00:00.000Z</td><td>CUST_004</td><td>STAFF_02</td></tr><tr><td>23</td><td>Hair Coloring</td><td>60.0</td><td>2025-08-31</td><td>2025-09-17T09:00:00.000Z</td><td>CUST_029</td><td>STAFF_04</td></tr><tr><td>24</td><td>Hair Coloring</td><td>60.0</td><td>2025-08-23</td><td>2025-09-17T19:30:00.000Z</td><td>CUST_033</td><td>STAFF_02</td></tr><tr><td>25</td><td>Hair Coloring</td><td>60.0</td><td>2025-08-10</td><td>2025-09-17T12:15:00.000Z</td><td>CUST_002</td><td>STAFF_04</td></tr><tr><td>26</td><td>Hair Coloring</td><td>60.0</td><td>2025-08-21</td><td>2025-09-17T15:15:00.000Z</td><td>CUST_017</td><td>STAFF_01</td></tr><tr><td>27</td><td>Haircut</td><td>15.0</td><td>2025-08-27</td><td>2025-09-17T19:45:00.000Z</td><td>CUST_008</td><td>STAFF_03</td></tr><tr><td>28</td><td>Massage</td><td>45.0</td><td>2025-08-12</td><td>2025-09-17T12:45:00.000Z</td><td>CUST_040</td><td>STAFF_03</td></tr><tr><td>29</td><td>Facial</td><td>40.0</td><td>2025-08-28</td><td>2025-09-17T16:15:00.000Z</td><td>CUST_040</td><td>STAFF_01</td></tr><tr><td>30</td><td>Pedicure</td><td>22.0</td><td>2025-08-25</td><td>2025-09-17T10:00:00.000Z</td><td>CUST_033</td><td>STAFF_04</td></tr><tr><td>31</td><td>Manicure</td><td>20.0</td><td>2025-08-21</td><td>2025-09-17T14:15:00.000Z</td><td>CUST_041</td><td>STAFF_02</td></tr><tr><td>32</td><td>Haircut</td><td>15.0</td><td>2025-08-10</td><td>2025-09-17T10:30:00.000Z</td><td>CUST_043</td><td>STAFF_03</td></tr><tr><td>33</td><td>Massage</td><td>45.0</td><td>2025-08-10</td><td>2025-09-17T12:00:00.000Z</td><td>CUST_003</td><td>STAFF_02</td></tr><tr><td>34</td><td>Facial</td><td>40.0</td><td>2025-08-17</td><td>2025-09-17T15:15:00.000Z</td><td>CUST_025</td><td>STAFF_01</td></tr><tr><td>35</td><td>Haircut</td><td>15.0</td><td>2025-08-02</td><td>2025-09-17T19:30:00.000Z</td><td>CUST_007</td><td>STAFF_04</td></tr><tr><td>36</td><td>Pedicure</td><td>22.0</td><td>2025-08-05</td><td>2025-09-17T10:30:00.000Z</td><td>CUST_039</td><td>STAFF_02</td></tr><tr><td>37</td><td>Haircut</td><td>15.0</td><td>2025-08-25</td><td>2025-09-17T10:00:00.000Z</td><td>CUST_034</td><td>STAFF_04</td></tr><tr><td>38</td><td>Massage</td><td>45.0</td><td>2025-08-13</td><td>2025-09-17T12:45:00.000Z</td><td>CUST_036</td><td>STAFF_02</td></tr><tr><td>39</td><td>Hair Coloring</td><td>60.0</td><td>2025-08-03</td><td>2025-09-17T17:45:00.000Z</td><td>CUST_028</td><td>STAFF_04</td></tr><tr><td>40</td><td>Massage</td><td>45.0</td><td>2025-08-15</td><td>2025-09-17T19:45:00.000Z</td><td>CUST_045</td><td>STAFF_02</td></tr><tr><td>41</td><td>Hair Coloring</td><td>60.0</td><td>2025-08-14</td><td>2025-09-17T12:30:00.000Z</td><td>CUST_048</td><td>STAFF_01</td></tr><tr><td>42</td><td>Haircut</td><td>15.0</td><td>2025-08-05</td><td>2025-09-17T11:15:00.000Z</td><td>CUST_033</td><td>STAFF_02</td></tr><tr><td>43</td><td>Haircut</td><td>15.0</td><td>2025-08-07</td><td>2025-09-17T14:15:00.000Z</td><td>CUST_013</td><td>STAFF_04</td></tr><tr><td>44</td><td>Facial</td><td>40.0</td><td>2025-08-11</td><td>2025-09-17T10:45:00.000Z</td><td>CUST_048</td><td>STAFF_03</td></tr><tr><td>45</td><td>Massage</td><td>45.0</td><td>2025-08-09</td><td>2025-09-17T15:30:00.000Z</td><td>CUST_009</td><td>STAFF_04</td></tr><tr><td>46</td><td>Hair Coloring</td><td>60.0</td><td>2025-08-07</td><td>2025-09-17T11:15:00.000Z</td><td>CUST_029</td><td>STAFF_03</td></tr><tr><td>47</td><td>Spa Massage</td><td>50.0</td><td>2025-08-08</td><td>2025-09-17T16:15:00.000Z</td><td>CUST_019</td><td>STAFF_04</td></tr><tr><td>48</td><td>Pedicure</td><td>22.0</td><td>2025-08-16</td><td>2025-09-17T15:30:00.000Z</td><td>CUST_001</td><td>STAFF_01</td></tr><tr><td>49</td><td>Spa Massage</td><td>50.0</td><td>2025-08-13</td><td>2025-09-17T18:15:00.000Z</td><td>CUST_011</td><td>STAFF_04</td></tr><tr><td>50</td><td>Manicure</td><td>20.0</td><td>2025-08-28</td><td>2025-09-17T12:30:00.000Z</td><td>CUST_033</td><td>STAFF_03</td></tr><tr><td>51</td><td>Facial</td><td>40.0</td><td>2025-08-07</td><td>2025-09-17T12:45:00.000Z</td><td>CUST_046</td><td>STAFF_04</td></tr><tr><td>52</td><td>Facial</td><td>40.0</td><td>2025-08-19</td><td>2025-09-17T14:15:00.000Z</td><td>CUST_006</td><td>STAFF_02</td></tr><tr><td>53</td><td>Spa Massage</td><td>50.0</td><td>2025-08-24</td><td>2025-09-17T16:00:00.000Z</td><td>CUST_049</td><td>STAFF_01</td></tr><tr><td>54</td><td>Manicure</td><td>20.0</td><td>2025-08-09</td><td>2025-09-17T12:30:00.000Z</td><td>CUST_040</td><td>STAFF_04</td></tr><tr><td>55</td><td>Spa Massage</td><td>50.0</td><td>2025-08-23</td><td>2025-09-17T09:45:00.000Z</td><td>CUST_010</td><td>STAFF_01</td></tr><tr><td>56</td><td>Manicure</td><td>20.0</td><td>2025-08-23</td><td>2025-09-17T14:45:00.000Z</td><td>CUST_037</td><td>STAFF_01</td></tr><tr><td>57</td><td>Haircut</td><td>15.0</td><td>2025-08-17</td><td>2025-09-17T11:15:00.000Z</td><td>CUST_006</td><td>STAFF_02</td></tr><tr><td>58</td><td>Pedicure</td><td>22.0</td><td>2025-08-05</td><td>2025-09-17T12:30:00.000Z</td><td>CUST_045</td><td>STAFF_02</td></tr><tr><td>59</td><td>Haircut</td><td>15.0</td><td>2025-08-19</td><td>2025-09-17T10:00:00.000Z</td><td>CUST_038</td><td>STAFF_01</td></tr><tr><td>60</td><td>Hair Coloring</td><td>60.0</td><td>2025-08-09</td><td>2025-09-17T16:00:00.000Z</td><td>CUST_007</td><td>STAFF_01</td></tr><tr><td>61</td><td>Haircut</td><td>15.0</td><td>2025-08-01</td><td>2025-09-17T11:00:00.000Z</td><td>CUST_044</td><td>STAFF_02</td></tr><tr><td>62</td><td>Massage</td><td>45.0</td><td>2025-08-04</td><td>2025-09-17T14:30:00.000Z</td><td>CUST_005</td><td>STAFF_02</td></tr><tr><td>63</td><td>Massage</td><td>45.0</td><td>2025-08-07</td><td>2025-09-17T13:45:00.000Z</td><td>CUST_014</td><td>STAFF_03</td></tr><tr><td>64</td><td>Spa Massage</td><td>50.0</td><td>2025-08-27</td><td>2025-09-17T15:15:00.000Z</td><td>CUST_001</td><td>STAFF_01</td></tr><tr><td>65</td><td>Facial</td><td>40.0</td><td>2025-08-11</td><td>2025-09-17T18:30:00.000Z</td><td>CUST_050</td><td>STAFF_01</td></tr><tr><td>66</td><td>Facial</td><td>40.0</td><td>2025-08-22</td><td>2025-09-17T12:45:00.000Z</td><td>CUST_048</td><td>STAFF_01</td></tr><tr><td>67</td><td>Spa Massage</td><td>50.0</td><td>2025-08-12</td><td>2025-09-17T11:30:00.000Z</td><td>CUST_037</td><td>STAFF_01</td></tr><tr><td>68</td><td>Manicure</td><td>20.0</td><td>2025-08-18</td><td>2025-09-17T14:15:00.000Z</td><td>CUST_008</td><td>STAFF_02</td></tr><tr><td>69</td><td>Manicure</td><td>20.0</td><td>2025-08-10</td><td>2025-09-17T10:00:00.000Z</td><td>CUST_013</td><td>STAFF_02</td></tr><tr><td>70</td><td>Pedicure</td><td>22.0</td><td>2025-08-31</td><td>2025-09-17T16:15:00.000Z</td><td>CUST_029</td><td>STAFF_01</td></tr><tr><td>71</td><td>Spa Massage</td><td>50.0</td><td>2025-08-19</td><td>2025-09-17T18:45:00.000Z</td><td>CUST_012</td><td>STAFF_02</td></tr><tr><td>72</td><td>Haircut</td><td>15.0</td><td>2025-08-05</td><td>2025-09-17T10:00:00.000Z</td><td>CUST_041</td><td>STAFF_04</td></tr><tr><td>73</td><td>Manicure</td><td>20.0</td><td>2025-08-17</td><td>2025-09-17T10:45:00.000Z</td><td>CUST_023</td><td>STAFF_02</td></tr><tr><td>74</td><td>Facial</td><td>40.0</td><td>2025-08-11</td><td>2025-09-17T19:30:00.000Z</td><td>CUST_018</td><td>STAFF_04</td></tr><tr><td>75</td><td>Haircut</td><td>15.0</td><td>2025-08-13</td><td>2025-09-17T17:30:00.000Z</td><td>CUST_040</td><td>STAFF_02</td></tr><tr><td>76</td><td>Spa Massage</td><td>50.0</td><td>2025-08-19</td><td>2025-09-17T11:45:00.000Z</td><td>CUST_048</td><td>STAFF_04</td></tr><tr><td>77</td><td>Pedicure</td><td>22.0</td><td>2025-08-18</td><td>2025-09-17T13:30:00.000Z</td><td>CUST_001</td><td>STAFF_02</td></tr><tr><td>78</td><td>Spa Massage</td><td>50.0</td><td>2025-08-12</td><td>2025-09-17T18:15:00.000Z</td><td>CUST_016</td><td>STAFF_03</td></tr><tr><td>79</td><td>Manicure</td><td>20.0</td><td>2025-08-07</td><td>2025-09-17T19:00:00.000Z</td><td>CUST_035</td><td>STAFF_02</td></tr><tr><td>80</td><td>Facial</td><td>40.0</td><td>2025-08-27</td><td>2025-09-17T18:45:00.000Z</td><td>CUST_004</td><td>STAFF_01</td></tr><tr><td>81</td><td>Facial</td><td>40.0</td><td>2025-08-23</td><td>2025-09-17T10:15:00.000Z</td><td>CUST_042</td><td>STAFF_04</td></tr><tr><td>82</td><td>Pedicure</td><td>22.0</td><td>2025-08-24</td><td>2025-09-17T14:00:00.000Z</td><td>CUST_037</td><td>STAFF_04</td></tr><tr><td>83</td><td>Facial</td><td>40.0</td><td>2025-08-19</td><td>2025-09-17T19:30:00.000Z</td><td>CUST_047</td><td>STAFF_01</td></tr><tr><td>84</td><td>Manicure</td><td>20.0</td><td>2025-08-25</td><td>2025-09-17T15:15:00.000Z</td><td>CUST_009</td><td>STAFF_03</td></tr><tr><td>85</td><td>Massage</td><td>45.0</td><td>2025-08-16</td><td>2025-09-17T09:00:00.000Z</td><td>CUST_022</td><td>STAFF_04</td></tr><tr><td>86</td><td>Manicure</td><td>20.0</td><td>2025-08-13</td><td>2025-09-17T13:00:00.000Z</td><td>CUST_043</td><td>STAFF_03</td></tr><tr><td>87</td><td>Pedicure</td><td>22.0</td><td>2025-08-09</td><td>2025-09-17T09:30:00.000Z</td><td>CUST_040</td><td>STAFF_04</td></tr><tr><td>88</td><td>Spa Massage</td><td>50.0</td><td>2025-08-24</td><td>2025-09-17T11:30:00.000Z</td><td>CUST_040</td><td>STAFF_04</td></tr><tr><td>89</td><td>Massage</td><td>45.0</td><td>2025-08-09</td><td>2025-09-17T17:30:00.000Z</td><td>CUST_025</td><td>STAFF_03</td></tr><tr><td>90</td><td>Manicure</td><td>20.0</td><td>2025-08-02</td><td>2025-09-17T13:00:00.000Z</td><td>CUST_031</td><td>STAFF_04</td></tr><tr><td>91</td><td>Pedicure</td><td>22.0</td><td>2025-08-09</td><td>2025-09-17T19:00:00.000Z</td><td>CUST_026</td><td>STAFF_03</td></tr><tr><td>92</td><td>Pedicure</td><td>22.0</td><td>2025-08-03</td><td>2025-09-17T17:00:00.000Z</td><td>CUST_023</td><td>STAFF_02</td></tr><tr><td>93</td><td>Haircut</td><td>15.0</td><td>2025-08-07</td><td>2025-09-17T19:15:00.000Z</td><td>CUST_006</td><td>STAFF_03</td></tr><tr><td>94</td><td>Hair Coloring</td><td>60.0</td><td>2025-08-16</td><td>2025-09-17T11:00:00.000Z</td><td>CUST_016</td><td>STAFF_01</td></tr><tr><td>95</td><td>Haircut</td><td>15.0</td><td>2025-08-03</td><td>2025-09-17T09:45:00.000Z</td><td>CUST_015</td><td>STAFF_03</td></tr><tr><td>96</td><td>Manicure</td><td>20.0</td><td>2025-08-10</td><td>2025-09-17T09:00:00.000Z</td><td>CUST_030</td><td>STAFF_04</td></tr><tr><td>97</td><td>Manicure</td><td>20.0</td><td>2025-08-04</td><td>2025-09-17T18:15:00.000Z</td><td>CUST_016</td><td>STAFF_02</td></tr><tr><td>98</td><td>Spa Massage</td><td>50.0</td><td>2025-08-28</td><td>2025-09-17T14:45:00.000Z</td><td>CUST_025</td><td>STAFF_01</td></tr><tr><td>99</td><td>Hair Coloring</td><td>60.0</td><td>2025-08-05</td><td>2025-09-17T14:45:00.000Z</td><td>CUST_015</td><td>STAFF_03</td></tr><tr><td>100</td><td>Facial</td><td>40.0</td><td>2025-08-13</td><td>2025-09-17T13:15:00.000Z</td><td>CUST_007</td><td>STAFF_04</td></tr></tbody></table></div>"
      ]
     },
     "metadata": {
      "application/vnd.databricks.v1+output": {
       "addedWidgets": {},
       "aggData": [],
       "aggError": "",
       "aggOverflow": false,
       "aggSchema": [],
       "aggSeriesLimitReached": false,
       "aggType": "",
       "arguments": {},
       "columnCustomDisplayInfos": {},
       "data": [
        [
         1,
         "Massage",
         45.0,
         "2025-08-05",
         "2025-09-17T12:30:00.000Z",
         "CUST_038",
         "STAFF_01"
        ],
        [
         2,
         "Manicure",
         20.0,
         "2025-08-07",
         "2025-09-17T15:45:00.000Z",
         "CUST_008",
         "STAFF_04"
        ],
        [
         3,
         "Facial",
         40.0,
         "2025-08-12",
         "2025-09-17T10:15:00.000Z",
         "CUST_027",
         "STAFF_01"
        ],
        [
         4,
         "Pedicure",
         22.0,
         "2025-08-13",
         "2025-09-17T10:00:00.000Z",
         "CUST_036",
         "STAFF_02"
        ],
        [
         5,
         "Pedicure",
         22.0,
         "2025-08-04",
         "2025-09-17T09:45:00.000Z",
         "CUST_048",
         "STAFF_04"
        ],
        [
         6,
         "Hair Coloring",
         60.0,
         "2025-08-26",
         "2025-09-17T17:45:00.000Z",
         "CUST_016",
         "STAFF_04"
        ],
        [
         7,
         "Massage",
         45.0,
         "2025-08-16",
         "2025-09-17T12:45:00.000Z",
         "CUST_022",
         "STAFF_01"
        ],
        [
         8,
         "Manicure",
         20.0,
         "2025-08-29",
         "2025-09-17T15:00:00.000Z",
         "CUST_036",
         "STAFF_04"
        ],
        [
         9,
         "Facial",
         40.0,
         "2025-08-14",
         "2025-09-17T18:30:00.000Z",
         "CUST_035",
         "STAFF_02"
        ],
        [
         10,
         "Pedicure",
         22.0,
         "2025-08-26",
         "2025-09-17T16:30:00.000Z",
         "CUST_044",
         "STAFF_01"
        ],
        [
         11,
         "Hair Coloring",
         60.0,
         "2025-08-26",
         "2025-09-17T09:15:00.000Z",
         "CUST_040",
         "STAFF_01"
        ],
        [
         12,
         "Massage",
         45.0,
         "2025-08-31",
         "2025-09-17T17:15:00.000Z",
         "CUST_015",
         "STAFF_03"
        ],
        [
         13,
         "Hair Coloring",
         60.0,
         "2025-08-21",
         "2025-09-17T12:45:00.000Z",
         "CUST_049",
         "STAFF_04"
        ],
        [
         14,
         "Hair Coloring",
         60.0,
         "2025-08-19",
         "2025-09-17T13:15:00.000Z",
         "CUST_015",
         "STAFF_02"
        ],
        [
         15,
         "Facial",
         40.0,
         "2025-08-30",
         "2025-09-17T16:30:00.000Z",
         "CUST_011",
         "STAFF_02"
        ],
        [
         16,
         "Pedicure",
         22.0,
         "2025-08-21",
         "2025-09-17T13:00:00.000Z",
         "CUST_027",
         "STAFF_02"
        ],
        [
         17,
         "Manicure",
         20.0,
         "2025-08-10",
         "2025-09-17T17:00:00.000Z",
         "CUST_016",
         "STAFF_03"
        ],
        [
         18,
         "Massage",
         45.0,
         "2025-08-19",
         "2025-09-17T14:00:00.000Z",
         "CUST_008",
         "STAFF_03"
        ],
        [
         19,
         "Hair Coloring",
         60.0,
         "2025-08-08",
         "2025-09-17T14:45:00.000Z",
         "CUST_019",
         "STAFF_01"
        ],
        [
         20,
         "Facial",
         40.0,
         "2025-08-10",
         "2025-09-17T09:00:00.000Z",
         "CUST_001",
         "STAFF_03"
        ],
        [
         21,
         "Pedicure",
         22.0,
         "2025-08-04",
         "2025-09-17T13:15:00.000Z",
         "CUST_034",
         "STAFF_03"
        ],
        [
         22,
         "Spa Massage",
         50.0,
         "2025-08-27",
         "2025-09-17T15:00:00.000Z",
         "CUST_004",
         "STAFF_02"
        ],
        [
         23,
         "Hair Coloring",
         60.0,
         "2025-08-31",
         "2025-09-17T09:00:00.000Z",
         "CUST_029",
         "STAFF_04"
        ],
        [
         24,
         "Hair Coloring",
         60.0,
         "2025-08-23",
         "2025-09-17T19:30:00.000Z",
         "CUST_033",
         "STAFF_02"
        ],
        [
         25,
         "Hair Coloring",
         60.0,
         "2025-08-10",
         "2025-09-17T12:15:00.000Z",
         "CUST_002",
         "STAFF_04"
        ],
        [
         26,
         "Hair Coloring",
         60.0,
         "2025-08-21",
         "2025-09-17T15:15:00.000Z",
         "CUST_017",
         "STAFF_01"
        ],
        [
         27,
         "Haircut",
         15.0,
         "2025-08-27",
         "2025-09-17T19:45:00.000Z",
         "CUST_008",
         "STAFF_03"
        ],
        [
         28,
         "Massage",
         45.0,
         "2025-08-12",
         "2025-09-17T12:45:00.000Z",
         "CUST_040",
         "STAFF_03"
        ],
        [
         29,
         "Facial",
         40.0,
         "2025-08-28",
         "2025-09-17T16:15:00.000Z",
         "CUST_040",
         "STAFF_01"
        ],
        [
         30,
         "Pedicure",
         22.0,
         "2025-08-25",
         "2025-09-17T10:00:00.000Z",
         "CUST_033",
         "STAFF_04"
        ],
        [
         31,
         "Manicure",
         20.0,
         "2025-08-21",
         "2025-09-17T14:15:00.000Z",
         "CUST_041",
         "STAFF_02"
        ],
        [
         32,
         "Haircut",
         15.0,
         "2025-08-10",
         "2025-09-17T10:30:00.000Z",
         "CUST_043",
         "STAFF_03"
        ],
        [
         33,
         "Massage",
         45.0,
         "2025-08-10",
         "2025-09-17T12:00:00.000Z",
         "CUST_003",
         "STAFF_02"
        ],
        [
         34,
         "Facial",
         40.0,
         "2025-08-17",
         "2025-09-17T15:15:00.000Z",
         "CUST_025",
         "STAFF_01"
        ],
        [
         35,
         "Haircut",
         15.0,
         "2025-08-02",
         "2025-09-17T19:30:00.000Z",
         "CUST_007",
         "STAFF_04"
        ],
        [
         36,
         "Pedicure",
         22.0,
         "2025-08-05",
         "2025-09-17T10:30:00.000Z",
         "CUST_039",
         "STAFF_02"
        ],
        [
         37,
         "Haircut",
         15.0,
         "2025-08-25",
         "2025-09-17T10:00:00.000Z",
         "CUST_034",
         "STAFF_04"
        ],
        [
         38,
         "Massage",
         45.0,
         "2025-08-13",
         "2025-09-17T12:45:00.000Z",
         "CUST_036",
         "STAFF_02"
        ],
        [
         39,
         "Hair Coloring",
         60.0,
         "2025-08-03",
         "2025-09-17T17:45:00.000Z",
         "CUST_028",
         "STAFF_04"
        ],
        [
         40,
         "Massage",
         45.0,
         "2025-08-15",
         "2025-09-17T19:45:00.000Z",
         "CUST_045",
         "STAFF_02"
        ],
        [
         41,
         "Hair Coloring",
         60.0,
         "2025-08-14",
         "2025-09-17T12:30:00.000Z",
         "CUST_048",
         "STAFF_01"
        ],
        [
         42,
         "Haircut",
         15.0,
         "2025-08-05",
         "2025-09-17T11:15:00.000Z",
         "CUST_033",
         "STAFF_02"
        ],
        [
         43,
         "Haircut",
         15.0,
         "2025-08-07",
         "2025-09-17T14:15:00.000Z",
         "CUST_013",
         "STAFF_04"
        ],
        [
         44,
         "Facial",
         40.0,
         "2025-08-11",
         "2025-09-17T10:45:00.000Z",
         "CUST_048",
         "STAFF_03"
        ],
        [
         45,
         "Massage",
         45.0,
         "2025-08-09",
         "2025-09-17T15:30:00.000Z",
         "CUST_009",
         "STAFF_04"
        ],
        [
         46,
         "Hair Coloring",
         60.0,
         "2025-08-07",
         "2025-09-17T11:15:00.000Z",
         "CUST_029",
         "STAFF_03"
        ],
        [
         47,
         "Spa Massage",
         50.0,
         "2025-08-08",
         "2025-09-17T16:15:00.000Z",
         "CUST_019",
         "STAFF_04"
        ],
        [
         48,
         "Pedicure",
         22.0,
         "2025-08-16",
         "2025-09-17T15:30:00.000Z",
         "CUST_001",
         "STAFF_01"
        ],
        [
         49,
         "Spa Massage",
         50.0,
         "2025-08-13",
         "2025-09-17T18:15:00.000Z",
         "CUST_011",
         "STAFF_04"
        ],
        [
         50,
         "Manicure",
         20.0,
         "2025-08-28",
         "2025-09-17T12:30:00.000Z",
         "CUST_033",
         "STAFF_03"
        ],
        [
         51,
         "Facial",
         40.0,
         "2025-08-07",
         "2025-09-17T12:45:00.000Z",
         "CUST_046",
         "STAFF_04"
        ],
        [
         52,
         "Facial",
         40.0,
         "2025-08-19",
         "2025-09-17T14:15:00.000Z",
         "CUST_006",
         "STAFF_02"
        ],
        [
         53,
         "Spa Massage",
         50.0,
         "2025-08-24",
         "2025-09-17T16:00:00.000Z",
         "CUST_049",
         "STAFF_01"
        ],
        [
         54,
         "Manicure",
         20.0,
         "2025-08-09",
         "2025-09-17T12:30:00.000Z",
         "CUST_040",
         "STAFF_04"
        ],
        [
         55,
         "Spa Massage",
         50.0,
         "2025-08-23",
         "2025-09-17T09:45:00.000Z",
         "CUST_010",
         "STAFF_01"
        ],
        [
         56,
         "Manicure",
         20.0,
         "2025-08-23",
         "2025-09-17T14:45:00.000Z",
         "CUST_037",
         "STAFF_01"
        ],
        [
         57,
         "Haircut",
         15.0,
         "2025-08-17",
         "2025-09-17T11:15:00.000Z",
         "CUST_006",
         "STAFF_02"
        ],
        [
         58,
         "Pedicure",
         22.0,
         "2025-08-05",
         "2025-09-17T12:30:00.000Z",
         "CUST_045",
         "STAFF_02"
        ],
        [
         59,
         "Haircut",
         15.0,
         "2025-08-19",
         "2025-09-17T10:00:00.000Z",
         "CUST_038",
         "STAFF_01"
        ],
        [
         60,
         "Hair Coloring",
         60.0,
         "2025-08-09",
         "2025-09-17T16:00:00.000Z",
         "CUST_007",
         "STAFF_01"
        ],
        [
         61,
         "Haircut",
         15.0,
         "2025-08-01",
         "2025-09-17T11:00:00.000Z",
         "CUST_044",
         "STAFF_02"
        ],
        [
         62,
         "Massage",
         45.0,
         "2025-08-04",
         "2025-09-17T14:30:00.000Z",
         "CUST_005",
         "STAFF_02"
        ],
        [
         63,
         "Massage",
         45.0,
         "2025-08-07",
         "2025-09-17T13:45:00.000Z",
         "CUST_014",
         "STAFF_03"
        ],
        [
         64,
         "Spa Massage",
         50.0,
         "2025-08-27",
         "2025-09-17T15:15:00.000Z",
         "CUST_001",
         "STAFF_01"
        ],
        [
         65,
         "Facial",
         40.0,
         "2025-08-11",
         "2025-09-17T18:30:00.000Z",
         "CUST_050",
         "STAFF_01"
        ],
        [
         66,
         "Facial",
         40.0,
         "2025-08-22",
         "2025-09-17T12:45:00.000Z",
         "CUST_048",
         "STAFF_01"
        ],
        [
         67,
         "Spa Massage",
         50.0,
         "2025-08-12",
         "2025-09-17T11:30:00.000Z",
         "CUST_037",
         "STAFF_01"
        ],
        [
         68,
         "Manicure",
         20.0,
         "2025-08-18",
         "2025-09-17T14:15:00.000Z",
         "CUST_008",
         "STAFF_02"
        ],
        [
         69,
         "Manicure",
         20.0,
         "2025-08-10",
         "2025-09-17T10:00:00.000Z",
         "CUST_013",
         "STAFF_02"
        ],
        [
         70,
         "Pedicure",
         22.0,
         "2025-08-31",
         "2025-09-17T16:15:00.000Z",
         "CUST_029",
         "STAFF_01"
        ],
        [
         71,
         "Spa Massage",
         50.0,
         "2025-08-19",
         "2025-09-17T18:45:00.000Z",
         "CUST_012",
         "STAFF_02"
        ],
        [
         72,
         "Haircut",
         15.0,
         "2025-08-05",
         "2025-09-17T10:00:00.000Z",
         "CUST_041",
         "STAFF_04"
        ],
        [
         73,
         "Manicure",
         20.0,
         "2025-08-17",
         "2025-09-17T10:45:00.000Z",
         "CUST_023",
         "STAFF_02"
        ],
        [
         74,
         "Facial",
         40.0,
         "2025-08-11",
         "2025-09-17T19:30:00.000Z",
         "CUST_018",
         "STAFF_04"
        ],
        [
         75,
         "Haircut",
         15.0,
         "2025-08-13",
         "2025-09-17T17:30:00.000Z",
         "CUST_040",
         "STAFF_02"
        ],
        [
         76,
         "Spa Massage",
         50.0,
         "2025-08-19",
         "2025-09-17T11:45:00.000Z",
         "CUST_048",
         "STAFF_04"
        ],
        [
         77,
         "Pedicure",
         22.0,
         "2025-08-18",
         "2025-09-17T13:30:00.000Z",
         "CUST_001",
         "STAFF_02"
        ],
        [
         78,
         "Spa Massage",
         50.0,
         "2025-08-12",
         "2025-09-17T18:15:00.000Z",
         "CUST_016",
         "STAFF_03"
        ],
        [
         79,
         "Manicure",
         20.0,
         "2025-08-07",
         "2025-09-17T19:00:00.000Z",
         "CUST_035",
         "STAFF_02"
        ],
        [
         80,
         "Facial",
         40.0,
         "2025-08-27",
         "2025-09-17T18:45:00.000Z",
         "CUST_004",
         "STAFF_01"
        ],
        [
         81,
         "Facial",
         40.0,
         "2025-08-23",
         "2025-09-17T10:15:00.000Z",
         "CUST_042",
         "STAFF_04"
        ],
        [
         82,
         "Pedicure",
         22.0,
         "2025-08-24",
         "2025-09-17T14:00:00.000Z",
         "CUST_037",
         "STAFF_04"
        ],
        [
         83,
         "Facial",
         40.0,
         "2025-08-19",
         "2025-09-17T19:30:00.000Z",
         "CUST_047",
         "STAFF_01"
        ],
        [
         84,
         "Manicure",
         20.0,
         "2025-08-25",
         "2025-09-17T15:15:00.000Z",
         "CUST_009",
         "STAFF_03"
        ],
        [
         85,
         "Massage",
         45.0,
         "2025-08-16",
         "2025-09-17T09:00:00.000Z",
         "CUST_022",
         "STAFF_04"
        ],
        [
         86,
         "Manicure",
         20.0,
         "2025-08-13",
         "2025-09-17T13:00:00.000Z",
         "CUST_043",
         "STAFF_03"
        ],
        [
         87,
         "Pedicure",
         22.0,
         "2025-08-09",
         "2025-09-17T09:30:00.000Z",
         "CUST_040",
         "STAFF_04"
        ],
        [
         88,
         "Spa Massage",
         50.0,
         "2025-08-24",
         "2025-09-17T11:30:00.000Z",
         "CUST_040",
         "STAFF_04"
        ],
        [
         89,
         "Massage",
         45.0,
         "2025-08-09",
         "2025-09-17T17:30:00.000Z",
         "CUST_025",
         "STAFF_03"
        ],
        [
         90,
         "Manicure",
         20.0,
         "2025-08-02",
         "2025-09-17T13:00:00.000Z",
         "CUST_031",
         "STAFF_04"
        ],
        [
         91,
         "Pedicure",
         22.0,
         "2025-08-09",
         "2025-09-17T19:00:00.000Z",
         "CUST_026",
         "STAFF_03"
        ],
        [
         92,
         "Pedicure",
         22.0,
         "2025-08-03",
         "2025-09-17T17:00:00.000Z",
         "CUST_023",
         "STAFF_02"
        ],
        [
         93,
         "Haircut",
         15.0,
         "2025-08-07",
         "2025-09-17T19:15:00.000Z",
         "CUST_006",
         "STAFF_03"
        ],
        [
         94,
         "Hair Coloring",
         60.0,
         "2025-08-16",
         "2025-09-17T11:00:00.000Z",
         "CUST_016",
         "STAFF_01"
        ],
        [
         95,
         "Haircut",
         15.0,
         "2025-08-03",
         "2025-09-17T09:45:00.000Z",
         "CUST_015",
         "STAFF_03"
        ],
        [
         96,
         "Manicure",
         20.0,
         "2025-08-10",
         "2025-09-17T09:00:00.000Z",
         "CUST_030",
         "STAFF_04"
        ],
        [
         97,
         "Manicure",
         20.0,
         "2025-08-04",
         "2025-09-17T18:15:00.000Z",
         "CUST_016",
         "STAFF_02"
        ],
        [
         98,
         "Spa Massage",
         50.0,
         "2025-08-28",
         "2025-09-17T14:45:00.000Z",
         "CUST_025",
         "STAFF_01"
        ],
        [
         99,
         "Hair Coloring",
         60.0,
         "2025-08-05",
         "2025-09-17T14:45:00.000Z",
         "CUST_015",
         "STAFF_03"
        ],
        [
         100,
         "Facial",
         40.0,
         "2025-08-13",
         "2025-09-17T13:15:00.000Z",
         "CUST_007",
         "STAFF_04"
        ]
       ],
       "datasetInfos": [],
       "dbfsResultPath": null,
       "isJsonSchema": true,
       "metadata": {},
       "overflow": false,
       "plotOptions": {
        "customPlotOptions": {},
        "displayType": "table",
        "pivotAggregation": null,
        "pivotColumns": null,
        "xColumns": null,
        "yColumns": null
       },
       "removedWidgets": [],
       "schema": [
        {
         "metadata": "{}",
         "name": "appointment_id",
         "type": "\"integer\""
        },
        {
         "metadata": "{}",
         "name": "service_name",
         "type": "\"string\""
        },
        {
         "metadata": "{}",
         "name": "price",
         "type": "\"double\""
        },
        {
         "metadata": "{\"__detected_date_formats\": \"yyyy-M-d\"}",
         "name": "appointment_date",
         "type": "\"date\""
        },
        {
         "metadata": "{}",
         "name": "appointment_time",
         "type": "\"timestamp\""
        },
        {
         "metadata": "{}",
         "name": "customer_id",
         "type": "\"string\""
        },
        {
         "metadata": "{}",
         "name": "staff_member_id",
         "type": "\"string\""
        }
       ],
       "type": "table"
      }
     },
     "output_type": "display_data"
    },
    {
     "output_type": "stream",
     "name": "stdout",
     "output_type": "stream",
     "text": [
      "\nDataFrame Schema:\nroot\n |-- appointment_id: integer (nullable = true)\n |-- service_name: string (nullable = true)\n |-- price: double (nullable = true)\n |-- appointment_date: date (nullable = true)\n |-- appointment_time: timestamp (nullable = true)\n |-- customer_id: string (nullable = true)\n |-- staff_member_id: string (nullable = true)\n\n"
     ]
    }
   ],
   "source": [
    "# Import the necessary libraries\n",
    "from pyspark.sql import SparkSession\n",
    "from pyspark.sql.functions import col, hour, dayofweek, count, sum\n",
    "\n",
    "# The file path to your uploaded CSV\n",
    "file_path = \"/Volumes/workspace/default/internal_1/salon_appointments_dummy.csv\"\n",
    "\n",
    "# Read the CSV file into a PySpark DataFrame\n",
    "# 'header=True' treats the first row as column names\n",
    "# 'inferSchema=True' automatically detects data types for each column\n",
    "df = spark.read.csv(file_path, header=True, inferSchema=True)\n",
    "\n",
    "# Display the DataFrame to confirm it loaded correctly\n",
    "print(\"Loaded DataFrame:\")\n",
    "display(df)\n",
    "\n",
    "# Print the schema to verify column names and data types\n",
    "print(\"\\nDataFrame Schema:\")\n",
    "df.printSchema()"
   ]
  },
  {
   "cell_type": "code",
   "execution_count": 0,
   "metadata": {
    "application/vnd.databricks.v1+cell": {
     "cellMetadata": {
      "byteLimit": 2048000,
      "rowLimit": 10000
     },
     "inputWidgets": {},
     "nuid": "1aaf59ee-a05d-4529-98d6-40ba5fbc7cdf",
     "showTitle": false,
     "tableResultSettingsMap": {},
     "title": ""
    }
   },
   "outputs": [
    {
     "output_type": "stream",
     "name": "stdout",
     "output_type": "stream",
     "text": [
      "Most Popular Services (by booking count):\n"
     ]
    },
    {
     "output_type": "display_data",
     "data": {
      "text/html": [
       "<style scoped>\n",
       "  .table-result-container {\n",
       "    max-height: 300px;\n",
       "    overflow: auto;\n",
       "  }\n",
       "  table, th, td {\n",
       "    border: 1px solid black;\n",
       "    border-collapse: collapse;\n",
       "  }\n",
       "  th, td {\n",
       "    padding: 5px;\n",
       "  }\n",
       "  th {\n",
       "    text-align: left;\n",
       "  }\n",
       "</style><div class='table-result-container'><table class='table-result'><thead style='background-color: white'><tr><th>service_name</th><th>booking_count</th></tr></thead><tbody><tr><td>Facial</td><td>16</td></tr><tr><td>Manicure</td><td>16</td></tr><tr><td>Pedicure</td><td>15</td></tr><tr><td>Hair Coloring</td><td>15</td></tr><tr><td>Haircut</td><td>13</td></tr><tr><td>Massage</td><td>13</td></tr><tr><td>Spa Massage</td><td>12</td></tr></tbody></table></div>"
      ]
     },
     "metadata": {
      "application/vnd.databricks.v1+output": {
       "addedWidgets": {},
       "aggData": [],
       "aggError": "",
       "aggOverflow": false,
       "aggSchema": [],
       "aggSeriesLimitReached": false,
       "aggType": "",
       "arguments": {},
       "columnCustomDisplayInfos": {},
       "data": [
        [
         "Facial",
         16
        ],
        [
         "Manicure",
         16
        ],
        [
         "Pedicure",
         15
        ],
        [
         "Hair Coloring",
         15
        ],
        [
         "Haircut",
         13
        ],
        [
         "Massage",
         13
        ],
        [
         "Spa Massage",
         12
        ]
       ],
       "datasetInfos": [],
       "dbfsResultPath": null,
       "isJsonSchema": true,
       "metadata": {},
       "overflow": false,
       "plotOptions": {
        "customPlotOptions": {},
        "displayType": "table",
        "pivotAggregation": null,
        "pivotColumns": null,
        "xColumns": null,
        "yColumns": null
       },
       "removedWidgets": [],
       "schema": [
        {
         "metadata": "{}",
         "name": "service_name",
         "type": "\"string\""
        },
        {
         "metadata": "{}",
         "name": "booking_count",
         "type": "\"long\""
        }
       ],
       "type": "table"
      }
     },
     "output_type": "display_data"
    },
    {
     "output_type": "display_data",
     "data": {
      "text/plain": [
       "Databricks visualization. Run in Databricks to view."
      ]
     },
     "metadata": {
      "application/vnd.databricks.v1.subcommand+json": {
       "baseErrorDetails": null,
       "bindings": {},
       "collapsed": false,
       "command": "%python\n__backend_agg_display_orig = display\n__backend_agg_dfs = []\ndef __backend_agg_display_new(df):\n    __backend_agg_df_modules = [\"pandas.core.frame\", \"databricks.koalas.frame\", \"pyspark.sql.dataframe\", \"pyspark.pandas.frame\", \"pyspark.sql.connect.dataframe\"]\n    if (type(df).__module__ in __backend_agg_df_modules and type(df).__name__ == 'DataFrame') or isinstance(df, list):\n        __backend_agg_dfs.append(df)\n\ndisplay = __backend_agg_display_new\n\ndef __backend_agg_user_code_fn():\n    import base64\n    exec(base64.standard_b64decode(\"IyBHcm91cCBieSBzZXJ2aWNlX25hbWUgYW5kIGNvdW50IHRoZSBudW1iZXIgb2YgYXBwb2ludG1lbnRzIGZvciBlYWNoIHNlcnZpY2UKcG9wdWxhcl9zZXJ2aWNlc19kZiA9IGRmLmdyb3VwQnkoInNlcnZpY2VfbmFtZSIpLmFnZygKICAgIGNvdW50KCIqIikuYWxpYXMoImJvb2tpbmdfY291bnQiKQopLm9yZGVyQnkoY29sKCJib29raW5nX2NvdW50IikuZGVzYygpKQoKcHJpbnQoIk1vc3QgUG9wdWxhciBTZXJ2aWNlcyAoYnkgYm9va2luZyBjb3VudCk6IikKZGlzcGxheShwb3B1bGFyX3NlcnZpY2VzX2RmKQ==\").decode())\n\ntry:\n    # run user code\n    __backend_agg_user_code_fn()\n\n    #reset display function\n    display = __backend_agg_display_orig\n\n    if len(__backend_agg_dfs) > 0:\n        # create a temp view\n        if type(__backend_agg_dfs[0]).__module__ == \"databricks.koalas.frame\":\n            # koalas dataframe\n            __backend_agg_dfs[0].to_spark().createOrReplaceTempView(\"DatabricksView34de914\")\n        elif type(__backend_agg_dfs[0]).__module__ == \"pandas.core.frame\" or isinstance(__backend_agg_dfs[0], list):\n            # pandas dataframe\n            spark.createDataFrame(__backend_agg_dfs[0]).createOrReplaceTempView(\"DatabricksView34de914\")\n        else:\n            __backend_agg_dfs[0].createOrReplaceTempView(\"DatabricksView34de914\")\n        #run backend agg\n        display(spark.sql(\"\"\"WITH q AS (select * from DatabricksView34de914) SELECT `service_name`,SUM(`booking_count`) `column_7132015755` FROM q GROUP BY `service_name`\"\"\"))\n    else:\n        displayHTML(\"dataframe no longer exists. If you're using dataframe.display(), use display(dataframe) instead.\")\n\n\nfinally:\n    spark.sql(\"drop view if exists DatabricksView34de914\")\n    display = __backend_agg_display_orig\n    del __backend_agg_display_new\n    del __backend_agg_display_orig\n    del __backend_agg_dfs\n    del __backend_agg_user_code_fn\n\n",
       "commandTitle": "Visualization 1",
       "commandType": "auto",
       "commandVersion": 0,
       "commentThread": [],
       "commentsVisible": false,
       "contentSha256Hex": null,
       "customPlotOptions": {
        "redashChart": [
         {
          "key": "type",
          "value": "CHART"
         },
         {
          "key": "options",
          "value": {
           "alignYAxesAtZero": true,
           "coefficient": 1,
           "columnConfigurationMap": {
            "x": {
             "column": "service_name",
             "id": "column_7132015754"
            },
            "y": [
             {
              "column": "booking_count",
              "id": "column_7132015755",
              "transform": "SUM"
             }
            ]
           },
           "dateTimeFormat": "DD/MM/YYYY HH:mm",
           "direction": {
            "type": "counterclockwise"
           },
           "error_y": {
            "type": "data",
            "visible": true
           },
           "globalSeriesType": "column",
           "legend": {
            "traceorder": "normal"
           },
           "missingValuesAsZero": true,
           "numberFormat": "0,0.[00000]",
           "percentFormat": "0[.]00%",
           "series": {
            "error_y": {
             "type": "data",
             "visible": true
            },
            "stacking": null
           },
           "seriesOptions": {
            "column_7132015755": {
             "name": "booking_count",
             "yAxis": 0
            }
           },
           "showDataLabels": false,
           "sizemode": "diameter",
           "sortX": true,
           "sortY": true,
           "swappedAxes": true,
           "textFormat": "",
           "useAggregationsUi": true,
           "valuesOptions": {},
           "version": 2,
           "xAxis": {
            "labels": {
             "enabled": true
            },
            "type": "-"
           },
           "yAxis": [
            {
             "type": "-"
            },
            {
             "opposite": true,
             "type": "-"
            }
           ]
          }
         }
        ]
       },
       "datasetPreviewNameToCmdIdMap": {},
       "diffDeletes": [],
       "diffInserts": [],
       "displayType": "redashChart",
       "error": null,
       "errorDetails": null,
       "errorSummary": null,
       "errorTraceType": null,
       "finishTime": 0,
       "globalVars": {},
       "guid": "",
       "height": "auto",
       "hideCommandCode": false,
       "hideCommandResult": false,
       "iPythonMetadata": null,
       "inputWidgets": {},
       "isLockedInExamMode": false,
       "latestAssumeRoleInfo": null,
       "latestUser": "a user",
       "latestUserId": null,
       "listResultMetadata": null,
       "metadata": {},
       "nuid": "4a0df09c-87e5-4afc-9862-b57d121445cd",
       "origId": 0,
       "parentHierarchy": [],
       "pivotAggregation": null,
       "pivotColumns": null,
       "position": 3.0,
       "resultDbfsErrorMessage": null,
       "resultDbfsStatus": "INLINED_IN_TREE",
       "results": null,
       "showCommandTitle": false,
       "startTime": 0,
       "state": "input",
       "streamStates": {},
       "subcommandOptions": {
        "queryPlan": {
         "groups": [
          {
           "column": "service_name",
           "type": "column"
          }
         ],
         "selects": [
          {
           "column": "service_name",
           "type": "column"
          },
          {
           "alias": "column_7132015755",
           "args": [
            {
             "column": "booking_count",
             "type": "column"
            }
           ],
           "function": "SUM",
           "type": "function"
          }
         ]
        }
       },
       "submitTime": 0,
       "subtype": "tableResultSubCmd.visualization",
       "tableResultIndex": 0,
       "tableResultSettingsMap": {},
       "useConsistentColors": false,
       "version": "CommandV1",
       "width": "auto",
       "workflows": [],
       "xColumns": null,
       "yColumns": null
      }
     },
     "output_type": "display_data"
    }
   ],
   "source": [
    "# Group by service_name and count the number of appointments for each service\n",
    "popular_services_df = df.groupBy(\"service_name\").agg(\n",
    "    count(\"*\").alias(\"booking_count\")\n",
    ").orderBy(col(\"booking_count\").desc())\n",
    "\n",
    "print(\"Most Popular Services (by booking count):\")\n",
    "display(popular_services_df)"
   ]
  },
  {
   "cell_type": "code",
   "execution_count": 0,
   "metadata": {
    "application/vnd.databricks.v1+cell": {
     "cellMetadata": {
      "byteLimit": 2048000,
      "rowLimit": 10000
     },
     "inputWidgets": {},
     "nuid": "09bdba67-0126-42b8-84ff-bf530097a2a8",
     "showTitle": false,
     "tableResultSettingsMap": {},
     "title": ""
    }
   },
   "outputs": [
    {
     "output_type": "stream",
     "name": "stdout",
     "output_type": "stream",
     "text": [
      "Appointments by Hour of the Day:\n"
     ]
    },
    {
     "output_type": "display_data",
     "data": {
      "text/html": [
       "<style scoped>\n",
       "  .table-result-container {\n",
       "    max-height: 300px;\n",
       "    overflow: auto;\n",
       "  }\n",
       "  table, th, td {\n",
       "    border: 1px solid black;\n",
       "    border-collapse: collapse;\n",
       "  }\n",
       "  th, td {\n",
       "    padding: 5px;\n",
       "  }\n",
       "  th {\n",
       "    text-align: left;\n",
       "  }\n",
       "</style><div class='table-result-container'><table class='table-result'><thead style='background-color: white'><tr><th>appointment_hour</th><th>total_appointments</th></tr></thead><tbody><tr><td>9</td><td>9</td></tr><tr><td>10</td><td>12</td></tr><tr><td>11</td><td>8</td></tr><tr><td>12</td><td>13</td></tr><tr><td>13</td><td>8</td></tr><tr><td>14</td><td>11</td></tr><tr><td>15</td><td>9</td></tr><tr><td>16</td><td>7</td></tr><tr><td>17</td><td>7</td></tr><tr><td>18</td><td>7</td></tr><tr><td>19</td><td>9</td></tr></tbody></table></div>"
      ]
     },
     "metadata": {
      "application/vnd.databricks.v1+output": {
       "addedWidgets": {},
       "aggData": [],
       "aggError": "",
       "aggOverflow": false,
       "aggSchema": [],
       "aggSeriesLimitReached": false,
       "aggType": "",
       "arguments": {},
       "columnCustomDisplayInfos": {},
       "data": [
        [
         9,
         9
        ],
        [
         10,
         12
        ],
        [
         11,
         8
        ],
        [
         12,
         13
        ],
        [
         13,
         8
        ],
        [
         14,
         11
        ],
        [
         15,
         9
        ],
        [
         16,
         7
        ],
        [
         17,
         7
        ],
        [
         18,
         7
        ],
        [
         19,
         9
        ]
       ],
       "datasetInfos": [],
       "dbfsResultPath": null,
       "isJsonSchema": true,
       "metadata": {},
       "overflow": false,
       "plotOptions": {
        "customPlotOptions": {},
        "displayType": "table",
        "pivotAggregation": null,
        "pivotColumns": null,
        "xColumns": null,
        "yColumns": null
       },
       "removedWidgets": [],
       "schema": [
        {
         "metadata": "{}",
         "name": "appointment_hour",
         "type": "\"integer\""
        },
        {
         "metadata": "{}",
         "name": "total_appointments",
         "type": "\"long\""
        }
       ],
       "type": "table"
      }
     },
     "output_type": "display_data"
    },
    {
     "output_type": "display_data",
     "data": {
      "text/plain": [
       "Databricks visualization. Run in Databricks to view."
      ]
     },
     "metadata": {
      "application/vnd.databricks.v1.subcommand+json": {
       "baseErrorDetails": null,
       "bindings": {},
       "collapsed": false,
       "command": "%python\n__backend_agg_display_orig = display\n__backend_agg_dfs = []\ndef __backend_agg_display_new(df):\n    __backend_agg_df_modules = [\"pandas.core.frame\", \"databricks.koalas.frame\", \"pyspark.sql.dataframe\", \"pyspark.pandas.frame\", \"pyspark.sql.connect.dataframe\"]\n    if (type(df).__module__ in __backend_agg_df_modules and type(df).__name__ == 'DataFrame') or isinstance(df, list):\n        __backend_agg_dfs.append(df)\n\ndisplay = __backend_agg_display_new\n\ndef __backend_agg_user_code_fn():\n    import base64\n    exec(base64.standard_b64decode(\"IyBDcmVhdGUgYSBuZXcgY29sdW1uIGZvciB0aGUgaG91ciBvZiB0aGUgYXBwb2ludG1lbnQKIyBhbmQgdGhlbiBncm91cCBieSBpdCB0byBmaW5kIHRoZSB0b3RhbCBhcHBvaW50bWVudHMgcGVyIGhvdXIKcGVha19ob3Vyc19kZiA9IGRmLndpdGhDb2x1bW4oImFwcG9pbnRtZW50X2hvdXIiLCBob3VyKGNvbCgiYXBwb2ludG1lbnRfdGltZSIpKSkuZ3JvdXBCeSgiYXBwb2ludG1lbnRfaG91ciIpLmFnZygKICAgIGNvdW50KCIqIikuYWxpYXMoInRvdGFsX2FwcG9pbnRtZW50cyIpCikub3JkZXJCeShjb2woImFwcG9pbnRtZW50X2hvdXIiKSkKCnByaW50KCJBcHBvaW50bWVudHMgYnkgSG91ciBvZiB0aGUgRGF5OiIpCmRpc3BsYXkocGVha19ob3Vyc19kZikKCiMgQ3JlYXRlIGEgbmV3IGNvbHVtbiBmb3IgdGhlIGRheSBvZiB0aGUgd2VlayAoMT1TdW5kYXksIDI9TW9uZGF5LCAuLi4pCiMgYW5kIHRoZW4gZ3JvdXAgYnkgaXQgdG8gZmluZCB0aGUgdG90YWwgYXBwb2ludG1lbnRzIHBlciBkYXkKcGVha19kYXlzX2RmID0gZGYud2l0aENvbHVtbigiZGF5X29mX3dlZWsiLCBkYXlvZndlZWsoY29sKCJhcHBvaW50bWVudF9kYXRlIikpKS5ncm91cEJ5KCJkYXlfb2Zfd2VlayIpLmFnZygKICAgIGNvdW50KCIqIikuYWxpYXMoInRvdGFsX2FwcG9pbnRtZW50cyIpCikub3JkZXJCeShjb2woImRheV9vZl93ZWVrIikpCgpwcmludCgiXG5BcHBvaW50bWVudHMgYnkgRGF5IG9mIHRoZSBXZWVrOiIpCmRpc3BsYXkocGVha19kYXlzX2RmKQ==\").decode())\n\ntry:\n    # run user code\n    __backend_agg_user_code_fn()\n\n    #reset display function\n    display = __backend_agg_display_orig\n\n    if len(__backend_agg_dfs) > 0:\n        # create a temp view\n        if type(__backend_agg_dfs[0]).__module__ == \"databricks.koalas.frame\":\n            # koalas dataframe\n            __backend_agg_dfs[0].to_spark().createOrReplaceTempView(\"DatabricksView6b13c91\")\n        elif type(__backend_agg_dfs[0]).__module__ == \"pandas.core.frame\" or isinstance(__backend_agg_dfs[0], list):\n            # pandas dataframe\n            spark.createDataFrame(__backend_agg_dfs[0]).createOrReplaceTempView(\"DatabricksView6b13c91\")\n        else:\n            __backend_agg_dfs[0].createOrReplaceTempView(\"DatabricksView6b13c91\")\n        #run backend agg\n        display(spark.sql(\"\"\"WITH q AS (select * from DatabricksView6b13c91) SELECT `appointment_hour`,`total_appointments` FROM q\"\"\"))\n    else:\n        displayHTML(\"dataframe no longer exists. If you're using dataframe.display(), use display(dataframe) instead.\")\n\n\nfinally:\n    spark.sql(\"drop view if exists DatabricksView6b13c91\")\n    display = __backend_agg_display_orig\n    del __backend_agg_display_new\n    del __backend_agg_display_orig\n    del __backend_agg_dfs\n    del __backend_agg_user_code_fn\n\n",
       "commandTitle": "Visualization 1",
       "commandType": "auto",
       "commandVersion": 0,
       "commentThread": [],
       "commentsVisible": false,
       "contentSha256Hex": null,
       "customPlotOptions": {
        "redashChart": [
         {
          "key": "type",
          "value": "CHART"
         },
         {
          "key": "options",
          "value": {
           "alignYAxesAtZero": true,
           "coefficient": 1,
           "columnConfigurationMap": {
            "x": {
             "column": "appointment_hour",
             "id": "column_7132015757"
            },
            "y": [
             {
              "column": "total_appointments",
              "id": "column_7132015758"
             }
            ]
           },
           "dateTimeFormat": "DD/MM/YYYY HH:mm",
           "direction": {
            "type": "counterclockwise"
           },
           "error_y": {
            "type": "data",
            "visible": true
           },
           "globalSeriesType": "scatter",
           "legend": {
            "traceorder": "normal"
           },
           "missingValuesAsZero": true,
           "numberFormat": "0,0.[00000]",
           "percentFormat": "0[.]00%",
           "series": {
            "error_y": {
             "type": "data",
             "visible": true
            },
            "stacking": null
           },
           "seriesOptions": {
            "column_7132015758": {
             "name": "total_appointments",
             "yAxis": 0
            }
           },
           "showDataLabels": false,
           "sizemode": "diameter",
           "sortX": true,
           "sortY": true,
           "swappedAxes": false,
           "textFormat": "",
           "useAggregationsUi": true,
           "valuesOptions": {},
           "version": 2,
           "xAxis": {
            "labels": {
             "enabled": true
            },
            "type": "-"
           },
           "yAxis": [
            {
             "type": "-"
            },
            {
             "opposite": true,
             "type": "-"
            }
           ]
          }
         }
        ]
       },
       "datasetPreviewNameToCmdIdMap": {},
       "diffDeletes": [],
       "diffInserts": [],
       "displayType": "redashChart",
       "error": null,
       "errorDetails": null,
       "errorSummary": null,
       "errorTraceType": null,
       "finishTime": 0,
       "globalVars": {},
       "guid": "",
       "height": "auto",
       "hideCommandCode": false,
       "hideCommandResult": false,
       "iPythonMetadata": null,
       "inputWidgets": {},
       "isLockedInExamMode": false,
       "latestAssumeRoleInfo": null,
       "latestUser": "a user",
       "latestUserId": null,
       "listResultMetadata": null,
       "metadata": {},
       "nuid": "d249dd9a-3ead-4a06-8f9c-7b78617cf564",
       "origId": 0,
       "parentHierarchy": [],
       "pivotAggregation": null,
       "pivotColumns": null,
       "position": 4.0,
       "resultDbfsErrorMessage": null,
       "resultDbfsStatus": "INLINED_IN_TREE",
       "results": null,
       "showCommandTitle": false,
       "startTime": 0,
       "state": "input",
       "streamStates": {},
       "subcommandOptions": {
        "queryPlan": {
         "selects": [
          {
           "column": "appointment_hour",
           "type": "column"
          },
          {
           "column": "total_appointments",
           "type": "column"
          }
         ]
        }
       },
       "submitTime": 0,
       "subtype": "tableResultSubCmd.visualization",
       "tableResultIndex": 0,
       "tableResultSettingsMap": {},
       "useConsistentColors": false,
       "version": "CommandV1",
       "width": "auto",
       "workflows": [],
       "xColumns": null,
       "yColumns": null
      }
     },
     "output_type": "display_data"
    },
    {
     "output_type": "stream",
     "name": "stdout",
     "output_type": "stream",
     "text": [
      "\nAppointments by Day of the Week:\n"
     ]
    },
    {
     "output_type": "display_data",
     "data": {
      "text/html": [
       "<style scoped>\n",
       "  .table-result-container {\n",
       "    max-height: 300px;\n",
       "    overflow: auto;\n",
       "  }\n",
       "  table, th, td {\n",
       "    border: 1px solid black;\n",
       "    border-collapse: collapse;\n",
       "  }\n",
       "  th, td {\n",
       "    padding: 5px;\n",
       "  }\n",
       "  th {\n",
       "    text-align: left;\n",
       "  }\n",
       "</style><div class='table-result-container'><table class='table-result'><thead style='background-color: white'><tr><th>day_of_week</th><th>total_appointments</th></tr></thead><tbody><tr><td>1</td><td>19</td></tr><tr><td>2</td><td>12</td></tr><tr><td>3</td><td>20</td></tr><tr><td>4</td><td>10</td></tr><tr><td>5</td><td>16</td></tr><tr><td>6</td><td>6</td></tr><tr><td>7</td><td>17</td></tr></tbody></table></div>"
      ]
     },
     "metadata": {
      "application/vnd.databricks.v1+output": {
       "addedWidgets": {},
       "aggData": [],
       "aggError": "",
       "aggOverflow": false,
       "aggSchema": [],
       "aggSeriesLimitReached": false,
       "aggType": "",
       "arguments": {},
       "columnCustomDisplayInfos": {},
       "data": [
        [
         1,
         19
        ],
        [
         2,
         12
        ],
        [
         3,
         20
        ],
        [
         4,
         10
        ],
        [
         5,
         16
        ],
        [
         6,
         6
        ],
        [
         7,
         17
        ]
       ],
       "datasetInfos": [],
       "dbfsResultPath": null,
       "isJsonSchema": true,
       "metadata": {},
       "overflow": false,
       "plotOptions": {
        "customPlotOptions": {},
        "displayType": "table",
        "pivotAggregation": null,
        "pivotColumns": null,
        "xColumns": null,
        "yColumns": null
       },
       "removedWidgets": [],
       "schema": [
        {
         "metadata": "{}",
         "name": "day_of_week",
         "type": "\"integer\""
        },
        {
         "metadata": "{}",
         "name": "total_appointments",
         "type": "\"long\""
        }
       ],
       "type": "table"
      }
     },
     "output_type": "display_data"
    }
   ],
   "source": [
    "# Create a new column for the hour of the appointment\n",
    "# and then group by it to find the total appointments per hour\n",
    "peak_hours_df = df.withColumn(\"appointment_hour\", hour(col(\"appointment_time\"))).groupBy(\"appointment_hour\").agg(\n",
    "    count(\"*\").alias(\"total_appointments\")\n",
    ").orderBy(col(\"appointment_hour\"))\n",
    "\n",
    "print(\"Appointments by Hour of the Day:\")\n",
    "display(peak_hours_df)\n",
    "\n",
    "# Create a new column for the day of the week (1=Sunday, 2=Monday, ...)\n",
    "# and then group by it to find the total appointments per day\n",
    "peak_days_df = df.withColumn(\"day_of_week\", dayofweek(col(\"appointment_date\"))).groupBy(\"day_of_week\").agg(\n",
    "    count(\"*\").alias(\"total_appointments\")\n",
    ").orderBy(col(\"day_of_week\"))\n",
    "\n",
    "print(\"\\nAppointments by Day of the Week:\")\n",
    "display(peak_days_df)"
   ]
  },
  {
   "cell_type": "code",
   "execution_count": 0,
   "metadata": {
    "application/vnd.databricks.v1+cell": {
     "cellMetadata": {
      "byteLimit": 2048000,
      "rowLimit": 10000
     },
     "inputWidgets": {},
     "nuid": "c756a1fa-89fe-45e2-b01a-6c8f5acf6a35",
     "showTitle": false,
     "tableResultSettingsMap": {},
     "title": ""
    }
   },
   "outputs": [
    {
     "output_type": "stream",
     "name": "stdout",
     "output_type": "stream",
     "text": [
      "Staff Performance (by revenue):\n"
     ]
    },
    {
     "output_type": "display_data",
     "data": {
      "text/html": [
       "<style scoped>\n",
       "  .table-result-container {\n",
       "    max-height: 300px;\n",
       "    overflow: auto;\n",
       "  }\n",
       "  table, th, td {\n",
       "    border: 1px solid black;\n",
       "    border-collapse: collapse;\n",
       "  }\n",
       "  th, td {\n",
       "    padding: 5px;\n",
       "  }\n",
       "  th {\n",
       "    text-align: left;\n",
       "  }\n",
       "</style><div class='table-result-container'><table class='table-result'><thead style='background-color: white'><tr><th>staff_member_id</th><th>total_revenue</th><th>services_completed</th></tr></thead><tbody><tr><td>STAFF_01</td><td>1081.0</td><td>25</td></tr><tr><td>STAFF_04</td><td>998.0</td><td>28</td></tr><tr><td>STAFF_02</td><td>832.0</td><td>27</td></tr><tr><td>STAFF_03</td><td>659.0</td><td>20</td></tr></tbody></table></div>"
      ]
     },
     "metadata": {
      "application/vnd.databricks.v1+output": {
       "addedWidgets": {},
       "aggData": [],
       "aggError": "",
       "aggOverflow": false,
       "aggSchema": [],
       "aggSeriesLimitReached": false,
       "aggType": "",
       "arguments": {},
       "columnCustomDisplayInfos": {},
       "data": [
        [
         "STAFF_01",
         1081.0,
         25
        ],
        [
         "STAFF_04",
         998.0,
         28
        ],
        [
         "STAFF_02",
         832.0,
         27
        ],
        [
         "STAFF_03",
         659.0,
         20
        ]
       ],
       "datasetInfos": [],
       "dbfsResultPath": null,
       "isJsonSchema": true,
       "metadata": {},
       "overflow": false,
       "plotOptions": {
        "customPlotOptions": {},
        "displayType": "table",
        "pivotAggregation": null,
        "pivotColumns": null,
        "xColumns": null,
        "yColumns": null
       },
       "removedWidgets": [],
       "schema": [
        {
         "metadata": "{}",
         "name": "staff_member_id",
         "type": "\"string\""
        },
        {
         "metadata": "{}",
         "name": "total_revenue",
         "type": "\"double\""
        },
        {
         "metadata": "{}",
         "name": "services_completed",
         "type": "\"long\""
        }
       ],
       "type": "table"
      }
     },
     "output_type": "display_data"
    },
    {
     "output_type": "display_data",
     "data": {
      "text/plain": [
       "Databricks visualization. Run in Databricks to view."
      ]
     },
     "metadata": {
      "application/vnd.databricks.v1.subcommand+json": {
       "baseErrorDetails": null,
       "bindings": {},
       "collapsed": false,
       "command": "%python\n__backend_agg_display_orig = display\n__backend_agg_dfs = []\ndef __backend_agg_display_new(df):\n    __backend_agg_df_modules = [\"pandas.core.frame\", \"databricks.koalas.frame\", \"pyspark.sql.dataframe\", \"pyspark.pandas.frame\", \"pyspark.sql.connect.dataframe\"]\n    if (type(df).__module__ in __backend_agg_df_modules and type(df).__name__ == 'DataFrame') or isinstance(df, list):\n        __backend_agg_dfs.append(df)\n\ndisplay = __backend_agg_display_new\n\ndef __backend_agg_user_code_fn():\n    import base64\n    exec(base64.standard_b64decode(\"ZnJvbSBweXNwYXJrLnNxbC5mdW5jdGlvbnMgaW1wb3J0IHN1bSwgY291bnQsIGNvbAoKIyBHcm91cCBieSBzdGFmZl9tZW1iZXJfaWQgYW5kIGNhbGN1bGF0ZSB0aGUgdG90YWwgcmV2ZW51ZSBhbmQgbnVtYmVyIG9mIHNlcnZpY2VzCnN0YWZmX3BlcmZvcm1hbmNlX2RmID0gZGYuZ3JvdXBCeSgic3RhZmZfbWVtYmVyX2lkIikuYWdnKAogICAgc3VtKCJwcmljZSIpLmFsaWFzKCJ0b3RhbF9yZXZlbnVlIiksCiAgICBjb3VudCgiKiIpLmFsaWFzKCJzZXJ2aWNlc19jb21wbGV0ZWQiKQopLm9yZGVyQnkoCiAgICBjb2woInRvdGFsX3JldmVudWUiKS5kZXNjKCkKKQoKcHJpbnQoIlN0YWZmIFBlcmZvcm1hbmNlIChieSByZXZlbnVlKToiKQpkaXNwbGF5KHN0YWZmX3BlcmZvcm1hbmNlX2RmKQ==\").decode())\n\ntry:\n    # run user code\n    __backend_agg_user_code_fn()\n\n    #reset display function\n    display = __backend_agg_display_orig\n\n    if len(__backend_agg_dfs) > 0:\n        # create a temp view\n        if type(__backend_agg_dfs[0]).__module__ == \"databricks.koalas.frame\":\n            # koalas dataframe\n            __backend_agg_dfs[0].to_spark().createOrReplaceTempView(\"DatabricksViewf5698e9\")\n        elif type(__backend_agg_dfs[0]).__module__ == \"pandas.core.frame\" or isinstance(__backend_agg_dfs[0], list):\n            # pandas dataframe\n            spark.createDataFrame(__backend_agg_dfs[0]).createOrReplaceTempView(\"DatabricksViewf5698e9\")\n        else:\n            __backend_agg_dfs[0].createOrReplaceTempView(\"DatabricksViewf5698e9\")\n        #run backend agg\n        display(spark.sql(\"\"\"WITH q AS (select * from DatabricksViewf5698e9) SELECT `total_revenue`,`services_completed`,`staff_member_id` FROM q\"\"\"))\n    else:\n        displayHTML(\"dataframe no longer exists. If you're using dataframe.display(), use display(dataframe) instead.\")\n\n\nfinally:\n    spark.sql(\"drop view if exists DatabricksViewf5698e9\")\n    display = __backend_agg_display_orig\n    del __backend_agg_display_new\n    del __backend_agg_display_orig\n    del __backend_agg_dfs\n    del __backend_agg_user_code_fn\n\n",
       "commandTitle": "Visualization 1",
       "commandType": "auto",
       "commandVersion": 0,
       "commentThread": [],
       "commentsVisible": false,
       "contentSha256Hex": null,
       "customPlotOptions": {
        "redashChart": [
         {
          "key": "type",
          "value": "CHART"
         },
         {
          "key": "options",
          "value": {
           "alignYAxesAtZero": true,
           "coefficient": 1,
           "columnConfigurationMap": {
            "series": {
             "column": "staff_member_id",
             "id": "column_7132015761"
            },
            "x": {
             "column": "total_revenue",
             "id": "column_7132015759"
            },
            "y": [
             {
              "column": "services_completed",
              "id": "column_7132015760"
             }
            ]
           },
           "dateTimeFormat": "DD/MM/YYYY HH:mm",
           "direction": {
            "type": "counterclockwise"
           },
           "error_y": {
            "type": "data",
            "visible": true
           },
           "globalSeriesType": "scatter",
           "legend": {
            "traceorder": "normal"
           },
           "missingValuesAsZero": true,
           "numberFormat": "0,0.[00000]",
           "percentFormat": "0[.]00%",
           "series": {
            "error_y": {
             "type": "data",
             "visible": true
            },
            "stacking": null
           },
           "seriesOptions": {
            "column_7132015760": {
             "name": "services_completed",
             "yAxis": 0
            }
           },
           "showDataLabels": false,
           "sizemode": "diameter",
           "sortX": true,
           "sortY": true,
           "swappedAxes": false,
           "textFormat": "",
           "useAggregationsUi": true,
           "valuesOptions": {},
           "version": 2,
           "xAxis": {
            "labels": {
             "enabled": true
            },
            "type": "-"
           },
           "yAxis": [
            {
             "type": "-"
            },
            {
             "opposite": true,
             "type": "-"
            }
           ]
          }
         }
        ]
       },
       "datasetPreviewNameToCmdIdMap": {},
       "diffDeletes": [],
       "diffInserts": [],
       "displayType": "redashChart",
       "error": null,
       "errorDetails": null,
       "errorSummary": null,
       "errorTraceType": null,
       "finishTime": 0,
       "globalVars": {},
       "guid": "",
       "height": "auto",
       "hideCommandCode": false,
       "hideCommandResult": false,
       "iPythonMetadata": null,
       "inputWidgets": {},
       "isLockedInExamMode": false,
       "latestAssumeRoleInfo": null,
       "latestUser": "a user",
       "latestUserId": null,
       "listResultMetadata": null,
       "metadata": {},
       "nuid": "b1e4b90a-7cc8-4f56-ae5d-90e5d7f66b4f",
       "origId": 0,
       "parentHierarchy": [],
       "pivotAggregation": null,
       "pivotColumns": null,
       "position": 5.0,
       "resultDbfsErrorMessage": null,
       "resultDbfsStatus": "INLINED_IN_TREE",
       "results": null,
       "showCommandTitle": false,
       "startTime": 0,
       "state": "input",
       "streamStates": {},
       "subcommandOptions": {
        "queryPlan": {
         "selects": [
          {
           "column": "total_revenue",
           "type": "column"
          },
          {
           "column": "services_completed",
           "type": "column"
          },
          {
           "column": "staff_member_id",
           "type": "column"
          }
         ]
        }
       },
       "submitTime": 0,
       "subtype": "tableResultSubCmd.visualization",
       "tableResultIndex": 0,
       "tableResultSettingsMap": {},
       "useConsistentColors": false,
       "version": "CommandV1",
       "width": "auto",
       "workflows": [],
       "xColumns": null,
       "yColumns": null
      }
     },
     "output_type": "display_data"
    }
   ],
   "source": [
    "from pyspark.sql.functions import sum, count, col\n",
    "\n",
    "# Group by staff_member_id and calculate the total revenue and number of services\n",
    "staff_performance_df = df.groupBy(\"staff_member_id\").agg(\n",
    "    sum(\"price\").alias(\"total_revenue\"),\n",
    "    count(\"*\").alias(\"services_completed\")\n",
    ").orderBy(\n",
    "    col(\"total_revenue\").desc()\n",
    ")\n",
    "\n",
    "print(\"Staff Performance (by revenue):\")\n",
    "display(staff_performance_df)"
   ]
  },
  {
   "cell_type": "code",
   "execution_count": 0,
   "metadata": {
    "application/vnd.databricks.v1+cell": {
     "cellMetadata": {
      "byteLimit": 2048000,
      "rowLimit": 10000
     },
     "inputWidgets": {},
     "nuid": "be573798-882f-4e87-8051-e09a7a4dd29f",
     "showTitle": false,
     "tableResultSettingsMap": {},
     "title": ""
    }
   },
   "outputs": [
    {
     "output_type": "stream",
     "name": "stdout",
     "output_type": "stream",
     "text": [
      "Customer Loyalty (by visit count):\n"
     ]
    },
    {
     "output_type": "display_data",
     "data": {
      "text/html": [
       "<style scoped>\n",
       "  .table-result-container {\n",
       "    max-height: 300px;\n",
       "    overflow: auto;\n",
       "  }\n",
       "  table, th, td {\n",
       "    border: 1px solid black;\n",
       "    border-collapse: collapse;\n",
       "  }\n",
       "  th, td {\n",
       "    padding: 5px;\n",
       "  }\n",
       "  th {\n",
       "    text-align: left;\n",
       "  }\n",
       "</style><div class='table-result-container'><table class='table-result'><thead style='background-color: white'><tr><th>customer_id</th><th>visit_count</th></tr></thead><tbody><tr><td>CUST_040</td><td>7</td></tr><tr><td>CUST_048</td><td>5</td></tr><tr><td>CUST_016</td><td>5</td></tr><tr><td>CUST_001</td><td>4</td></tr><tr><td>CUST_033</td><td>4</td></tr><tr><td>CUST_015</td><td>4</td></tr><tr><td>CUST_008</td><td>4</td></tr><tr><td>CUST_029</td><td>3</td></tr><tr><td>CUST_036</td><td>3</td></tr><tr><td>CUST_007</td><td>3</td></tr><tr><td>CUST_025</td><td>3</td></tr><tr><td>CUST_006</td><td>3</td></tr><tr><td>CUST_037</td><td>3</td></tr><tr><td>CUST_043</td><td>2</td></tr><tr><td>CUST_035</td><td>2</td></tr><tr><td>CUST_019</td><td>2</td></tr><tr><td>CUST_011</td><td>2</td></tr><tr><td>CUST_013</td><td>2</td></tr><tr><td>CUST_009</td><td>2</td></tr><tr><td>CUST_034</td><td>2</td></tr><tr><td>CUST_027</td><td>2</td></tr><tr><td>CUST_041</td><td>2</td></tr><tr><td>CUST_004</td><td>2</td></tr><tr><td>CUST_023</td><td>2</td></tr><tr><td>CUST_049</td><td>2</td></tr><tr><td>CUST_044</td><td>2</td></tr><tr><td>CUST_045</td><td>2</td></tr><tr><td>CUST_022</td><td>2</td></tr><tr><td>CUST_038</td><td>2</td></tr><tr><td>CUST_002</td><td>1</td></tr><tr><td>CUST_005</td><td>1</td></tr><tr><td>CUST_050</td><td>1</td></tr><tr><td>CUST_030</td><td>1</td></tr><tr><td>CUST_046</td><td>1</td></tr><tr><td>CUST_014</td><td>1</td></tr><tr><td>CUST_031</td><td>1</td></tr><tr><td>CUST_039</td><td>1</td></tr><tr><td>CUST_042</td><td>1</td></tr><tr><td>CUST_047</td><td>1</td></tr><tr><td>CUST_012</td><td>1</td></tr><tr><td>CUST_003</td><td>1</td></tr><tr><td>CUST_018</td><td>1</td></tr><tr><td>CUST_026</td><td>1</td></tr><tr><td>CUST_010</td><td>1</td></tr><tr><td>CUST_017</td><td>1</td></tr><tr><td>CUST_028</td><td>1</td></tr></tbody></table></div>"
      ]
     },
     "metadata": {
      "application/vnd.databricks.v1+output": {
       "addedWidgets": {},
       "aggData": [],
       "aggError": "",
       "aggOverflow": false,
       "aggSchema": [],
       "aggSeriesLimitReached": false,
       "aggType": "",
       "arguments": {},
       "columnCustomDisplayInfos": {},
       "data": [
        [
         "CUST_040",
         7
        ],
        [
         "CUST_048",
         5
        ],
        [
         "CUST_016",
         5
        ],
        [
         "CUST_001",
         4
        ],
        [
         "CUST_033",
         4
        ],
        [
         "CUST_015",
         4
        ],
        [
         "CUST_008",
         4
        ],
        [
         "CUST_029",
         3
        ],
        [
         "CUST_036",
         3
        ],
        [
         "CUST_007",
         3
        ],
        [
         "CUST_025",
         3
        ],
        [
         "CUST_006",
         3
        ],
        [
         "CUST_037",
         3
        ],
        [
         "CUST_043",
         2
        ],
        [
         "CUST_035",
         2
        ],
        [
         "CUST_019",
         2
        ],
        [
         "CUST_011",
         2
        ],
        [
         "CUST_013",
         2
        ],
        [
         "CUST_009",
         2
        ],
        [
         "CUST_034",
         2
        ],
        [
         "CUST_027",
         2
        ],
        [
         "CUST_041",
         2
        ],
        [
         "CUST_004",
         2
        ],
        [
         "CUST_023",
         2
        ],
        [
         "CUST_049",
         2
        ],
        [
         "CUST_044",
         2
        ],
        [
         "CUST_045",
         2
        ],
        [
         "CUST_022",
         2
        ],
        [
         "CUST_038",
         2
        ],
        [
         "CUST_002",
         1
        ],
        [
         "CUST_005",
         1
        ],
        [
         "CUST_050",
         1
        ],
        [
         "CUST_030",
         1
        ],
        [
         "CUST_046",
         1
        ],
        [
         "CUST_014",
         1
        ],
        [
         "CUST_031",
         1
        ],
        [
         "CUST_039",
         1
        ],
        [
         "CUST_042",
         1
        ],
        [
         "CUST_047",
         1
        ],
        [
         "CUST_012",
         1
        ],
        [
         "CUST_003",
         1
        ],
        [
         "CUST_018",
         1
        ],
        [
         "CUST_026",
         1
        ],
        [
         "CUST_010",
         1
        ],
        [
         "CUST_017",
         1
        ],
        [
         "CUST_028",
         1
        ]
       ],
       "datasetInfos": [],
       "dbfsResultPath": null,
       "isJsonSchema": true,
       "metadata": {},
       "overflow": false,
       "plotOptions": {
        "customPlotOptions": {},
        "displayType": "table",
        "pivotAggregation": null,
        "pivotColumns": null,
        "xColumns": null,
        "yColumns": null
       },
       "removedWidgets": [],
       "schema": [
        {
         "metadata": "{}",
         "name": "customer_id",
         "type": "\"string\""
        },
        {
         "metadata": "{}",
         "name": "visit_count",
         "type": "\"long\""
        }
       ],
       "type": "table"
      }
     },
     "output_type": "display_data"
    }
   ],
   "source": [
    "# Group by customer_id and count the number of visits for each customer\n",
    "customer_loyalty_df = df.groupBy(\"customer_id\").agg(\n",
    "    count(\"*\").alias(\"visit_count\")\n",
    ").orderBy(col(\"visit_count\").desc())\n",
    "\n",
    "print(\"Customer Loyalty (by visit count):\")\n",
    "display(customer_loyalty_df)"
   ]
  },
  {
   "cell_type": "code",
   "execution_count": 0,
   "metadata": {
    "application/vnd.databricks.v1+cell": {
     "cellMetadata": {
      "byteLimit": 2048000,
      "rowLimit": 10000
     },
     "inputWidgets": {},
     "nuid": "79810419-668b-48d5-9fa2-0b21a808009e",
     "showTitle": false,
     "tableResultSettingsMap": {},
     "title": ""
    }
   },
   "outputs": [
    {
     "output_type": "stream",
     "name": "stdout",
     "output_type": "stream",
     "text": [
      "Daily Revenue Trend:\n"
     ]
    },
    {
     "output_type": "display_data",
     "data": {
      "text/html": [
       "<style scoped>\n",
       "  .table-result-container {\n",
       "    max-height: 300px;\n",
       "    overflow: auto;\n",
       "  }\n",
       "  table, th, td {\n",
       "    border: 1px solid black;\n",
       "    border-collapse: collapse;\n",
       "  }\n",
       "  th, td {\n",
       "    padding: 5px;\n",
       "  }\n",
       "  th {\n",
       "    text-align: left;\n",
       "  }\n",
       "</style><div class='table-result-container'><table class='table-result'><thead style='background-color: white'><tr><th>appointment_date</th><th>daily_revenue</th></tr></thead><tbody><tr><td>2025-08-01</td><td>15.0</td></tr><tr><td>2025-08-02</td><td>35.0</td></tr><tr><td>2025-08-03</td><td>97.0</td></tr><tr><td>2025-08-04</td><td>109.0</td></tr><tr><td>2025-08-05</td><td>179.0</td></tr><tr><td>2025-08-07</td><td>215.0</td></tr><tr><td>2025-08-08</td><td>110.0</td></tr><tr><td>2025-08-09</td><td>214.0</td></tr><tr><td>2025-08-10</td><td>220.0</td></tr><tr><td>2025-08-11</td><td>120.0</td></tr><tr><td>2025-08-12</td><td>185.0</td></tr><tr><td>2025-08-13</td><td>192.0</td></tr><tr><td>2025-08-14</td><td>100.0</td></tr><tr><td>2025-08-15</td><td>45.0</td></tr><tr><td>2025-08-16</td><td>172.0</td></tr><tr><td>2025-08-17</td><td>75.0</td></tr><tr><td>2025-08-18</td><td>42.0</td></tr><tr><td>2025-08-19</td><td>300.0</td></tr><tr><td>2025-08-21</td><td>162.0</td></tr><tr><td>2025-08-22</td><td>40.0</td></tr><tr><td>2025-08-23</td><td>170.0</td></tr><tr><td>2025-08-24</td><td>122.0</td></tr><tr><td>2025-08-25</td><td>57.0</td></tr><tr><td>2025-08-26</td><td>142.0</td></tr><tr><td>2025-08-27</td><td>155.0</td></tr><tr><td>2025-08-28</td><td>110.0</td></tr><tr><td>2025-08-29</td><td>20.0</td></tr><tr><td>2025-08-30</td><td>40.0</td></tr><tr><td>2025-08-31</td><td>127.0</td></tr></tbody></table></div>"
      ]
     },
     "metadata": {
      "application/vnd.databricks.v1+output": {
       "addedWidgets": {},
       "aggData": [],
       "aggError": "",
       "aggOverflow": false,
       "aggSchema": [],
       "aggSeriesLimitReached": false,
       "aggType": "",
       "arguments": {},
       "columnCustomDisplayInfos": {},
       "data": [
        [
         "2025-08-01",
         15.0
        ],
        [
         "2025-08-02",
         35.0
        ],
        [
         "2025-08-03",
         97.0
        ],
        [
         "2025-08-04",
         109.0
        ],
        [
         "2025-08-05",
         179.0
        ],
        [
         "2025-08-07",
         215.0
        ],
        [
         "2025-08-08",
         110.0
        ],
        [
         "2025-08-09",
         214.0
        ],
        [
         "2025-08-10",
         220.0
        ],
        [
         "2025-08-11",
         120.0
        ],
        [
         "2025-08-12",
         185.0
        ],
        [
         "2025-08-13",
         192.0
        ],
        [
         "2025-08-14",
         100.0
        ],
        [
         "2025-08-15",
         45.0
        ],
        [
         "2025-08-16",
         172.0
        ],
        [
         "2025-08-17",
         75.0
        ],
        [
         "2025-08-18",
         42.0
        ],
        [
         "2025-08-19",
         300.0
        ],
        [
         "2025-08-21",
         162.0
        ],
        [
         "2025-08-22",
         40.0
        ],
        [
         "2025-08-23",
         170.0
        ],
        [
         "2025-08-24",
         122.0
        ],
        [
         "2025-08-25",
         57.0
        ],
        [
         "2025-08-26",
         142.0
        ],
        [
         "2025-08-27",
         155.0
        ],
        [
         "2025-08-28",
         110.0
        ],
        [
         "2025-08-29",
         20.0
        ],
        [
         "2025-08-30",
         40.0
        ],
        [
         "2025-08-31",
         127.0
        ]
       ],
       "datasetInfos": [],
       "dbfsResultPath": null,
       "isJsonSchema": true,
       "metadata": {},
       "overflow": false,
       "plotOptions": {
        "customPlotOptions": {},
        "displayType": "table",
        "pivotAggregation": null,
        "pivotColumns": null,
        "xColumns": null,
        "yColumns": null
       },
       "removedWidgets": [],
       "schema": [
        {
         "metadata": "{\"__detected_date_formats\": \"yyyy-M-d\"}",
         "name": "appointment_date",
         "type": "\"date\""
        },
        {
         "metadata": "{}",
         "name": "daily_revenue",
         "type": "\"double\""
        }
       ],
       "type": "table"
      }
     },
     "output_type": "display_data"
    },
    {
     "output_type": "display_data",
     "data": {
      "text/plain": [
       "Databricks visualization. Run in Databricks to view."
      ]
     },
     "metadata": {
      "application/vnd.databricks.v1.subcommand+json": {
       "baseErrorDetails": null,
       "bindings": {},
       "collapsed": false,
       "command": "%python\n__backend_agg_display_orig = display\n__backend_agg_dfs = []\ndef __backend_agg_display_new(df):\n    __backend_agg_df_modules = [\"pandas.core.frame\", \"databricks.koalas.frame\", \"pyspark.sql.dataframe\", \"pyspark.pandas.frame\", \"pyspark.sql.connect.dataframe\"]\n    if (type(df).__module__ in __backend_agg_df_modules and type(df).__name__ == 'DataFrame') or isinstance(df, list):\n        __backend_agg_dfs.append(df)\n\ndisplay = __backend_agg_display_new\n\ndef __backend_agg_user_code_fn():\n    import base64\n    exec(base64.standard_b64decode(\"ZnJvbSBweXNwYXJrLnNxbC5mdW5jdGlvbnMgaW1wb3J0IHN1bSwgY29sCgojIEdyb3VwIGJ5IHRoZSBhcHBvaW50bWVudCBkYXRlIGFuZCBzdW0gdGhlIHByaWNlIGZvciBlYWNoIGRheQpkYWlseV9yZXZlbnVlX2RmID0gZGYuZ3JvdXBCeSgiYXBwb2ludG1lbnRfZGF0ZSIpLmFnZygKICAgIHN1bSgicHJpY2UiKS5hbGlhcygiZGFpbHlfcmV2ZW51ZSIpCikub3JkZXJCeShjb2woImFwcG9pbnRtZW50X2RhdGUiKSkKCnByaW50KCJEYWlseSBSZXZlbnVlIFRyZW5kOiIpCmRpc3BsYXkoZGFpbHlfcmV2ZW51ZV9kZik=\").decode())\n\ntry:\n    # run user code\n    __backend_agg_user_code_fn()\n\n    #reset display function\n    display = __backend_agg_display_orig\n\n    if len(__backend_agg_dfs) > 0:\n        # create a temp view\n        if type(__backend_agg_dfs[0]).__module__ == \"databricks.koalas.frame\":\n            # koalas dataframe\n            __backend_agg_dfs[0].to_spark().createOrReplaceTempView(\"DatabricksViewe3d2d0e\")\n        elif type(__backend_agg_dfs[0]).__module__ == \"pandas.core.frame\" or isinstance(__backend_agg_dfs[0], list):\n            # pandas dataframe\n            spark.createDataFrame(__backend_agg_dfs[0]).createOrReplaceTempView(\"DatabricksViewe3d2d0e\")\n        else:\n            __backend_agg_dfs[0].createOrReplaceTempView(\"DatabricksViewe3d2d0e\")\n        #run backend agg\n        display(spark.sql(\"\"\"WITH q AS (select * from DatabricksViewe3d2d0e) SELECT `appointment_date`,SUM(`daily_revenue`) `column_71320157145` FROM q GROUP BY `appointment_date`\"\"\"))\n    else:\n        displayHTML(\"dataframe no longer exists. If you're using dataframe.display(), use display(dataframe) instead.\")\n\n\nfinally:\n    spark.sql(\"drop view if exists DatabricksViewe3d2d0e\")\n    display = __backend_agg_display_orig\n    del __backend_agg_display_new\n    del __backend_agg_display_orig\n    del __backend_agg_dfs\n    del __backend_agg_user_code_fn\n\n",
       "commandTitle": "Visualization 1",
       "commandType": "auto",
       "commandVersion": 0,
       "commentThread": [],
       "commentsVisible": false,
       "contentSha256Hex": null,
       "customPlotOptions": {
        "redashChart": [
         {
          "key": "type",
          "value": "CHART"
         },
         {
          "key": "options",
          "value": {
           "alignYAxesAtZero": true,
           "coefficient": 1,
           "columnConfigurationMap": {
            "x": {
             "column": "appointment_date",
             "id": "column_71320157144"
            },
            "y": [
             {
              "column": "daily_revenue",
              "id": "column_71320157145",
              "transform": "SUM"
             }
            ]
           },
           "dateTimeFormat": "DD/MM/YYYY HH:mm",
           "direction": {
            "type": "counterclockwise"
           },
           "error_y": {
            "type": "data",
            "visible": true
           },
           "globalSeriesType": "line",
           "legend": {
            "traceorder": "normal"
           },
           "missingValuesAsZero": true,
           "numberFormat": "0,0.[00000]",
           "percentFormat": "0[.]00%",
           "series": {
            "error_y": {
             "type": "data",
             "visible": true
            },
            "stacking": null
           },
           "seriesOptions": {
            "column_71320157145": {
             "name": "daily_revenue",
             "yAxis": 0
            }
           },
           "showDataLabels": false,
           "sizemode": "diameter",
           "sortX": true,
           "sortY": true,
           "swappedAxes": false,
           "textFormat": "",
           "useAggregationsUi": true,
           "valuesOptions": {},
           "version": 2,
           "xAxis": {
            "labels": {
             "enabled": true
            },
            "type": "-"
           },
           "yAxis": [
            {
             "type": "-"
            },
            {
             "opposite": true,
             "type": "-"
            }
           ]
          }
         }
        ]
       },
       "datasetPreviewNameToCmdIdMap": {},
       "diffDeletes": [],
       "diffInserts": [],
       "displayType": "redashChart",
       "error": null,
       "errorDetails": null,
       "errorSummary": null,
       "errorTraceType": null,
       "finishTime": 0,
       "globalVars": {},
       "guid": "",
       "height": "auto",
       "hideCommandCode": false,
       "hideCommandResult": false,
       "iPythonMetadata": null,
       "inputWidgets": {},
       "isLockedInExamMode": false,
       "latestAssumeRoleInfo": null,
       "latestUser": "a user",
       "latestUserId": null,
       "listResultMetadata": null,
       "metadata": {},
       "nuid": "e05593f1-bede-4904-97e6-7a33f765d3ab",
       "origId": 0,
       "parentHierarchy": [],
       "pivotAggregation": null,
       "pivotColumns": null,
       "position": 7.0,
       "resultDbfsErrorMessage": null,
       "resultDbfsStatus": "INLINED_IN_TREE",
       "results": null,
       "showCommandTitle": false,
       "startTime": 0,
       "state": "input",
       "streamStates": {},
       "subcommandOptions": {
        "queryPlan": {
         "groups": [
          {
           "column": "appointment_date",
           "type": "column"
          }
         ],
         "selects": [
          {
           "column": "appointment_date",
           "type": "column"
          },
          {
           "alias": "column_71320157145",
           "args": [
            {
             "column": "daily_revenue",
             "type": "column"
            }
           ],
           "function": "SUM",
           "type": "function"
          }
         ]
        }
       },
       "submitTime": 0,
       "subtype": "tableResultSubCmd.visualization",
       "tableResultIndex": 0,
       "tableResultSettingsMap": {},
       "useConsistentColors": false,
       "version": "CommandV1",
       "width": "auto",
       "workflows": [],
       "xColumns": null,
       "yColumns": null
      }
     },
     "output_type": "display_data"
    }
   ],
   "source": [
    "from pyspark.sql.functions import sum, col\n",
    "\n",
    "# Group by the appointment date and sum the price for each day\n",
    "daily_revenue_df = df.groupBy(\"appointment_date\").agg(\n",
    "    sum(\"price\").alias(\"daily_revenue\")\n",
    ").orderBy(col(\"appointment_date\"))\n",
    "\n",
    "print(\"Daily Revenue Trend:\")\n",
    "display(daily_revenue_df)"
   ]
  },
  {
   "cell_type": "code",
   "execution_count": 0,
   "metadata": {
    "application/vnd.databricks.v1+cell": {
     "cellMetadata": {
      "byteLimit": 2048000,
      "rowLimit": 10000
     },
     "inputWidgets": {},
     "nuid": "302c9526-fc8e-4fd1-abe1-fded8eb5d973",
     "showTitle": false,
     "tableResultSettingsMap": {},
     "title": ""
    }
   },
   "outputs": [
    {
     "output_type": "stream",
     "name": "stdout",
     "output_type": "stream",
     "text": [
      "Most Popular Service Bundles:\n"
     ]
    },
    {
     "output_type": "display_data",
     "data": {
      "text/html": [
       "<style scoped>\n",
       "  .table-result-container {\n",
       "    max-height: 300px;\n",
       "    overflow: auto;\n",
       "  }\n",
       "  table, th, td {\n",
       "    border: 1px solid black;\n",
       "    border-collapse: collapse;\n",
       "  }\n",
       "  th, td {\n",
       "    padding: 5px;\n",
       "  }\n",
       "  th {\n",
       "    text-align: left;\n",
       "  }\n",
       "</style><div class='table-result-container'><table class='table-result'><thead style='background-color: white'><tr><th>service1</th><th>service2</th><th>bundle_count</th></tr></thead><tbody><tr><td>Hair Coloring</td><td>Spa Massage</td><td>1</td></tr><tr><td>Hair Coloring</td><td>Pedicure</td><td>1</td></tr><tr><td>Manicure</td><td>Pedicure</td><td>1</td></tr><tr><td>Massage</td><td>Pedicure</td><td>1</td></tr><tr><td>Facial</td><td>Spa Massage</td><td>1</td></tr></tbody></table></div>"
      ]
     },
     "metadata": {
      "application/vnd.databricks.v1+output": {
       "addedWidgets": {},
       "aggData": [],
       "aggError": "",
       "aggOverflow": false,
       "aggSchema": [],
       "aggSeriesLimitReached": false,
       "aggType": "",
       "arguments": {},
       "columnCustomDisplayInfos": {},
       "data": [
        [
         "Hair Coloring",
         "Spa Massage",
         1
        ],
        [
         "Hair Coloring",
         "Pedicure",
         1
        ],
        [
         "Manicure",
         "Pedicure",
         1
        ],
        [
         "Massage",
         "Pedicure",
         1
        ],
        [
         "Facial",
         "Spa Massage",
         1
        ]
       ],
       "datasetInfos": [],
       "dbfsResultPath": null,
       "isJsonSchema": true,
       "metadata": {},
       "overflow": false,
       "plotOptions": {
        "customPlotOptions": {},
        "displayType": "table",
        "pivotAggregation": null,
        "pivotColumns": null,
        "xColumns": null,
        "yColumns": null
       },
       "removedWidgets": [],
       "schema": [
        {
         "metadata": "{}",
         "name": "service1",
         "type": "\"string\""
        },
        {
         "metadata": "{}",
         "name": "service2",
         "type": "\"string\""
        },
        {
         "metadata": "{}",
         "name": "bundle_count",
         "type": "\"long\""
        }
       ],
       "type": "table"
      }
     },
     "output_type": "display_data"
    }
   ],
   "source": [
    "from pyspark.sql.functions import count, col\n",
    "\n",
    "# Self-join the DataFrame to find service combinations\n",
    "# We join on customer_id and appointment_date to find services booked together\n",
    "# We use aliases (df1, df2) to distinguish between the two DataFrames\n",
    "bundles_df = df.alias(\"df1\").join(\n",
    "    df.alias(\"df2\"),\n",
    "    (col(\"df1.customer_id\") == col(\"df2.customer_id\")) &\n",
    "    (col(\"df1.appointment_date\") == col(\"df2.appointment_date\")) &\n",
    "    (col(\"df1.service_name\") < col(\"df2.service_name\")) # Ensures we don't count pairs twice (e.g., A-B and B-A)\n",
    ").groupBy(\n",
    "    col(\"df1.service_name\").alias(\"service1\"),\n",
    "    col(\"df2.service_name\").alias(\"service2\")\n",
    ").agg(\n",
    "    count(\"*\").alias(\"bundle_count\")\n",
    ").orderBy(col(\"bundle_count\").desc())\n",
    "\n",
    "print(\"Most Popular Service Bundles:\")\n",
    "display(bundles_df)"
   ]
  }
 ],
 "metadata": {
  "application/vnd.databricks.v1+notebook": {
   "computePreferences": null,
   "dashboards": [
    {
     "elements": [],
     "globalVars": {},
     "guid": "",
     "layoutOption": {
      "grid": true,
      "stack": true
     },
     "nuid": "f20b16d9-538f-453a-b2ff-8b64ea2d769a",
     "origId": 6117536204739876,
     "title": "Untitled",
     "version": "DashboardViewV1",
     "width": 1024
    },
    {
     "elements": [
      {
       "dashboardResultIndex": null,
       "elementNUID": "e05593f1-bede-4904-97e6-7a33f765d3ab",
       "elementType": "command",
       "guid": "07edf9d4-0341-4cda-bdb2-dc7bebdc28f4",
       "options": null,
       "position": {
        "height": 6,
        "width": 12,
        "x": 0,
        "y": 0,
        "z": null
       },
       "resultIndex": null
      },
      {
       "dashboardResultIndex": null,
       "elementNUID": "d249dd9a-3ead-4a06-8f9c-7b78617cf564",
       "elementType": "command",
       "guid": "b7bfd723-7c85-445c-adb6-ffb8f7c4c52d",
       "options": null,
       "position": {
        "height": 6,
        "width": 12,
        "x": 12,
        "y": 6,
        "z": null
       },
       "resultIndex": null
      },
      {
       "dashboardResultIndex": null,
       "elementNUID": "4a0df09c-87e5-4afc-9862-b57d121445cd",
       "elementType": "command",
       "guid": "d0117cae-8474-437e-90db-06b87e569050",
       "options": null,
       "position": {
        "height": 6,
        "width": 12,
        "x": 0,
        "y": 6,
        "z": null
       },
       "resultIndex": null
      },
      {
       "dashboardResultIndex": null,
       "elementNUID": "b1e4b90a-7cc8-4f56-ae5d-90e5d7f66b4f",
       "elementType": "command",
       "guid": "d7594b74-436e-4a7f-940e-015587db42e8",
       "options": null,
       "position": {
        "height": 6,
        "width": 12,
        "x": 12,
        "y": 0,
        "z": null
       },
       "resultIndex": null
      }
     ],
     "globalVars": {},
     "guid": "",
     "layoutOption": {
      "grid": true,
      "stack": true
     },
     "nuid": "34070bc5-3a04-4832-b254-7cacb663fb67",
     "origId": 6117536204739877,
     "title": "Dashboard",
     "version": "DashboardViewV1",
     "width": 1024
    }
   ],
   "environmentMetadata": {
    "base_environment": "",
    "environment_version": "3"
   },
   "inputWidgetPreferences": null,
   "language": "python",
   "notebookMetadata": {
    "pythonIndentUnit": 4
   },
   "notebookName": "Salon & Spa - Analytics",
   "widgets": {}
  },
  "language_info": {
   "name": "python"
  }
 },
 "nbformat": 4,
 "nbformat_minor": 0
}